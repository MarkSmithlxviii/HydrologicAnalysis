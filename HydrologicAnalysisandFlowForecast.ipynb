{
 "metadata": {
  "name": ""
 },
 "nbformat": 3,
 "nbformat_minor": 0,
 "worksheets": [
  {
   "cells": [
    {
     "cell_type": "heading",
     "level": 1,
     "metadata": {},
     "source": [
      "Hydrologic Data Analysis"
     ]
    },
    {
     "cell_type": "markdown",
     "metadata": {},
     "source": [
      "Import, analyse and compare flow data from a long term regional station and a short term project station.  The goal of the analysis will be to develop a long term synthetic stream flow string for the project site that can be used to determine the design stream flow statistics."
     ]
    },
    {
     "cell_type": "heading",
     "level": 2,
     "metadata": {},
     "source": [
      "Import Modules to be used"
     ]
    },
    {
     "cell_type": "code",
     "collapsed": false,
     "input": [
      "import pandas as pd\n",
      "import numpy as np\n",
      "import matplotlib.pyplot as plt\n",
      "import datetime\n",
      "from scipy.stats import genextreme\n",
      "from datetime import date\n",
      "import matplotlib.dates as mdates\n",
      "%matplotlib inline"
     ],
     "language": "python",
     "metadata": {},
     "outputs": [],
     "prompt_number": 1
    },
    {
     "cell_type": "heading",
     "level": 2,
     "metadata": {},
     "source": [
      "Read Flow Data From .csv"
     ]
    },
    {
     "cell_type": "markdown",
     "metadata": {},
     "source": [
      "Read the flow data from the regional station into a pandas data frame. The data comes from Water Survey of Canada (http://www.ec.gc.ca/rhc-wsc/) gauging station 08LA001, Clearwater River near Clearwater Station.  The last three rows contain NaN for date values and the disclaimer and are not read."
     ]
    },
    {
     "cell_type": "code",
     "collapsed": false,
     "input": [
      "o8la001 = pd.read_csv(\"08LA001_Daily_Flow_ts.csv\", skiprows =[26521,26522,26523])"
     ],
     "language": "python",
     "metadata": {},
     "outputs": [],
     "prompt_number": 2
    },
    {
     "cell_type": "markdown",
     "metadata": {},
     "source": [
      "Conver to a pandas data frame, and have a look at the top and bottom of the data to see if there is any problems.  Use .describe() to see a summary of the data."
     ]
    },
    {
     "cell_type": "code",
     "collapsed": false,
     "input": [
      "regionaldf = pd.DataFrame(o8la001)\n",
      "regionaldf.head()"
     ],
     "language": "python",
     "metadata": {},
     "outputs": [
      {
       "html": [
        "<div style=\"max-height:1000px;max-width:1500px;overflow:auto;\">\n",
        "<table border=\"1\" class=\"dataframe\">\n",
        "  <thead>\n",
        "    <tr style=\"text-align: right;\">\n",
        "      <th></th>\n",
        "      <th>ID</th>\n",
        "      <th>PARAM</th>\n",
        "      <th>Date</th>\n",
        "      <th>Flow</th>\n",
        "      <th>SYM</th>\n",
        "    </tr>\n",
        "  </thead>\n",
        "  <tbody>\n",
        "    <tr>\n",
        "      <th>0</th>\n",
        "      <td> 08LA001</td>\n",
        "      <td> 1</td>\n",
        "      <td> 1914/01/01</td>\n",
        "      <td> 144</td>\n",
        "      <td> NaN</td>\n",
        "    </tr>\n",
        "    <tr>\n",
        "      <th>1</th>\n",
        "      <td> 08LA001</td>\n",
        "      <td> 1</td>\n",
        "      <td> 1914/01/02</td>\n",
        "      <td> 144</td>\n",
        "      <td> NaN</td>\n",
        "    </tr>\n",
        "    <tr>\n",
        "      <th>2</th>\n",
        "      <td> 08LA001</td>\n",
        "      <td> 1</td>\n",
        "      <td> 1914/01/03</td>\n",
        "      <td> 144</td>\n",
        "      <td> NaN</td>\n",
        "    </tr>\n",
        "    <tr>\n",
        "      <th>3</th>\n",
        "      <td> 08LA001</td>\n",
        "      <td> 1</td>\n",
        "      <td> 1914/01/04</td>\n",
        "      <td> 140</td>\n",
        "      <td> NaN</td>\n",
        "    </tr>\n",
        "    <tr>\n",
        "      <th>4</th>\n",
        "      <td> 08LA001</td>\n",
        "      <td> 1</td>\n",
        "      <td> 1914/01/05</td>\n",
        "      <td> 140</td>\n",
        "      <td> NaN</td>\n",
        "    </tr>\n",
        "  </tbody>\n",
        "</table>\n",
        "<p>5 rows \u00d7 5 columns</p>\n",
        "</div>"
       ],
       "metadata": {},
       "output_type": "pyout",
       "prompt_number": 3,
       "text": [
        "        ID  PARAM        Date  Flow  SYM\n",
        "0  08LA001      1  1914/01/01   144  NaN\n",
        "1  08LA001      1  1914/01/02   144  NaN\n",
        "2  08LA001      1  1914/01/03   144  NaN\n",
        "3  08LA001      1  1914/01/04   140  NaN\n",
        "4  08LA001      1  1914/01/05   140  NaN\n",
        "\n",
        "[5 rows x 5 columns]"
       ]
      }
     ],
     "prompt_number": 3
    },
    {
     "cell_type": "code",
     "collapsed": false,
     "input": [
      "regionaldf.tail()"
     ],
     "language": "python",
     "metadata": {},
     "outputs": [
      {
       "html": [
        "<div style=\"max-height:1000px;max-width:1500px;overflow:auto;\">\n",
        "<table border=\"1\" class=\"dataframe\">\n",
        "  <thead>\n",
        "    <tr style=\"text-align: right;\">\n",
        "      <th></th>\n",
        "      <th>ID</th>\n",
        "      <th>PARAM</th>\n",
        "      <th>Date</th>\n",
        "      <th>Flow</th>\n",
        "      <th>SYM</th>\n",
        "    </tr>\n",
        "  </thead>\n",
        "  <tbody>\n",
        "    <tr>\n",
        "      <th>26515</th>\n",
        "      <td> 08LA001</td>\n",
        "      <td> 1</td>\n",
        "      <td> 2010/12/27</td>\n",
        "      <td> 45.6</td>\n",
        "      <td> NaN</td>\n",
        "    </tr>\n",
        "    <tr>\n",
        "      <th>26516</th>\n",
        "      <td> 08LA001</td>\n",
        "      <td> 1</td>\n",
        "      <td> 2010/12/28</td>\n",
        "      <td> 45.2</td>\n",
        "      <td> NaN</td>\n",
        "    </tr>\n",
        "    <tr>\n",
        "      <th>26517</th>\n",
        "      <td> 08LA001</td>\n",
        "      <td> 1</td>\n",
        "      <td> 2010/12/29</td>\n",
        "      <td> 43.3</td>\n",
        "      <td> NaN</td>\n",
        "    </tr>\n",
        "    <tr>\n",
        "      <th>26518</th>\n",
        "      <td> 08LA001</td>\n",
        "      <td> 1</td>\n",
        "      <td> 2010/12/30</td>\n",
        "      <td> 41.1</td>\n",
        "      <td> NaN</td>\n",
        "    </tr>\n",
        "    <tr>\n",
        "      <th>26519</th>\n",
        "      <td> 08LA001</td>\n",
        "      <td> 1</td>\n",
        "      <td> 2010/12/31</td>\n",
        "      <td> 40.0</td>\n",
        "      <td>   B</td>\n",
        "    </tr>\n",
        "  </tbody>\n",
        "</table>\n",
        "<p>5 rows \u00d7 5 columns</p>\n",
        "</div>"
       ],
       "metadata": {},
       "output_type": "pyout",
       "prompt_number": 4,
       "text": [
        "            ID  PARAM        Date  Flow  SYM\n",
        "26515  08LA001      1  2010/12/27  45.6  NaN\n",
        "26516  08LA001      1  2010/12/28  45.2  NaN\n",
        "26517  08LA001      1  2010/12/29  43.3  NaN\n",
        "26518  08LA001      1  2010/12/30  41.1  NaN\n",
        "26519  08LA001      1  2010/12/31  40.0    B\n",
        "\n",
        "[5 rows x 5 columns]"
       ]
      }
     ],
     "prompt_number": 4
    },
    {
     "cell_type": "code",
     "collapsed": false,
     "input": [
      "regionaldf.describe()"
     ],
     "language": "python",
     "metadata": {},
     "outputs": [
      {
       "html": [
        "<div style=\"max-height:1000px;max-width:1500px;overflow:auto;\">\n",
        "<table border=\"1\" class=\"dataframe\">\n",
        "  <thead>\n",
        "    <tr style=\"text-align: right;\">\n",
        "      <th></th>\n",
        "      <th>PARAM</th>\n",
        "      <th>Flow</th>\n",
        "    </tr>\n",
        "  </thead>\n",
        "  <tbody>\n",
        "    <tr>\n",
        "      <th>count</th>\n",
        "      <td> 26520</td>\n",
        "      <td> 26520.000000</td>\n",
        "    </tr>\n",
        "    <tr>\n",
        "      <th>mean</th>\n",
        "      <td>     1</td>\n",
        "      <td>   223.072428</td>\n",
        "    </tr>\n",
        "    <tr>\n",
        "      <th>std</th>\n",
        "      <td>     0</td>\n",
        "      <td>   236.204823</td>\n",
        "    </tr>\n",
        "    <tr>\n",
        "      <th>min</th>\n",
        "      <td>     1</td>\n",
        "      <td>    19.500000</td>\n",
        "    </tr>\n",
        "    <tr>\n",
        "      <th>25%</th>\n",
        "      <td>     1</td>\n",
        "      <td>    53.000000</td>\n",
        "    </tr>\n",
        "    <tr>\n",
        "      <th>50%</th>\n",
        "      <td>     1</td>\n",
        "      <td>   118.000000</td>\n",
        "    </tr>\n",
        "    <tr>\n",
        "      <th>75%</th>\n",
        "      <td>     1</td>\n",
        "      <td>   309.000000</td>\n",
        "    </tr>\n",
        "    <tr>\n",
        "      <th>max</th>\n",
        "      <td>     1</td>\n",
        "      <td>  1460.000000</td>\n",
        "    </tr>\n",
        "  </tbody>\n",
        "</table>\n",
        "<p>8 rows \u00d7 2 columns</p>\n",
        "</div>"
       ],
       "metadata": {},
       "output_type": "pyout",
       "prompt_number": 5,
       "text": [
        "       PARAM          Flow\n",
        "count  26520  26520.000000\n",
        "mean       1    223.072428\n",
        "std        0    236.204823\n",
        "min        1     19.500000\n",
        "25%        1     53.000000\n",
        "50%        1    118.000000\n",
        "75%        1    309.000000\n",
        "max        1   1460.000000\n",
        "\n",
        "[8 rows x 2 columns]"
       ]
      }
     ],
     "prompt_number": 5
    },
    {
     "cell_type": "markdown",
     "metadata": {},
     "source": [
      "The data consists of daily average flows from 1914 to 2010 with a gap in the middle between 1928 and 1950 (approximate).  The date is provided as one of the columns.  This is now converted into the data frame index."
     ]
    },
    {
     "cell_type": "code",
     "collapsed": false,
     "input": [
      "regionaldf.index = pd.to_datetime(regionaldf.pop('Date'))"
     ],
     "language": "python",
     "metadata": {},
     "outputs": [],
     "prompt_number": 6
    },
    {
     "cell_type": "markdown",
     "metadata": {},
     "source": [
      "Plot the discharge with respect to date.  The inline plot allows for examination of the data to make sure that there are no large negative 'flows'.  Negative numbers are typically used to demarcate breaks in the data.  "
     ]
    },
    {
     "cell_type": "code",
     "collapsed": false,
     "input": [
      "line, = plt.plot(regionaldf.index, regionaldf.Flow, linewidth = 1)\n",
      "plt.show()"
     ],
     "language": "python",
     "metadata": {},
     "outputs": [
      {
       "metadata": {},
       "output_type": "display_data",
       "png": "[encoded data removed]",
       "text": [
        "<matplotlib.figure.Figure at 0x771d240>"
       ]
      }
     ],
     "prompt_number": 7
    },
    {
     "cell_type": "markdown",
     "metadata": {},
     "source": [
      "Clean up the data frame by removing the unneeded columns."
     ]
    },
    {
     "cell_type": "code",
     "collapsed": false,
     "input": [
      "del regionaldf['ID']\n",
      "del regionaldf['PARAM']\n",
      "del regionaldf['SYM']"
     ],
     "language": "python",
     "metadata": {},
     "outputs": [],
     "prompt_number": 8
    },
    {
     "cell_type": "markdown",
     "metadata": {},
     "source": [
      "Import the project site and repeat the process.  08LB047 NORTH THOMPSON RIVER AT BIRCH ISLAND has a record from 1960 to 2011.  For the purposes of this exercise the input csv has been truncated to 2006 - 2010.  This will serve as the project station."
     ]
    },
    {
     "cell_type": "code",
     "collapsed": false,
     "input": [
      "o8lb047 = pd.read_csv(\"08LB047_Daily_Flow_ts.csv\")"
     ],
     "language": "python",
     "metadata": {},
     "outputs": [],
     "prompt_number": 9
    },
    {
     "cell_type": "code",
     "collapsed": false,
     "input": [
      "o8lb047.tail()"
     ],
     "language": "python",
     "metadata": {},
     "outputs": [
      {
       "html": [
        "<div style=\"max-height:1000px;max-width:1500px;overflow:auto;\">\n",
        "<table border=\"1\" class=\"dataframe\">\n",
        "  <thead>\n",
        "    <tr style=\"text-align: right;\">\n",
        "      <th></th>\n",
        "      <th> ID</th>\n",
        "      <th>PARAM</th>\n",
        "      <th>Date</th>\n",
        "      <th>Flow</th>\n",
        "      <th>SYM</th>\n",
        "    </tr>\n",
        "  </thead>\n",
        "  <tbody>\n",
        "    <tr>\n",
        "      <th>1821</th>\n",
        "      <td> 08LB047</td>\n",
        "      <td> 1</td>\n",
        "      <td> 2010/12/27</td>\n",
        "      <td> 32.0</td>\n",
        "      <td> B</td>\n",
        "    </tr>\n",
        "    <tr>\n",
        "      <th>1822</th>\n",
        "      <td> 08LB047</td>\n",
        "      <td> 1</td>\n",
        "      <td> 2010/12/28</td>\n",
        "      <td> 31.8</td>\n",
        "      <td> B</td>\n",
        "    </tr>\n",
        "    <tr>\n",
        "      <th>1823</th>\n",
        "      <td> 08LB047</td>\n",
        "      <td> 1</td>\n",
        "      <td> 2010/12/29</td>\n",
        "      <td> 32.0</td>\n",
        "      <td> B</td>\n",
        "    </tr>\n",
        "    <tr>\n",
        "      <th>1824</th>\n",
        "      <td> 08LB047</td>\n",
        "      <td> 1</td>\n",
        "      <td> 2010/12/30</td>\n",
        "      <td> 31.8</td>\n",
        "      <td> B</td>\n",
        "    </tr>\n",
        "    <tr>\n",
        "      <th>1825</th>\n",
        "      <td> 08LB047</td>\n",
        "      <td> 1</td>\n",
        "      <td> 2010/12/31</td>\n",
        "      <td> 31.5</td>\n",
        "      <td> B</td>\n",
        "    </tr>\n",
        "  </tbody>\n",
        "</table>\n",
        "<p>5 rows \u00d7 5 columns</p>\n",
        "</div>"
       ],
       "metadata": {},
       "output_type": "pyout",
       "prompt_number": 10,
       "text": [
        "           ID  PARAM        Date  Flow SYM\n",
        "1821  08LB047      1  2010/12/27  32.0   B\n",
        "1822  08LB047      1  2010/12/28  31.8   B\n",
        "1823  08LB047      1  2010/12/29  32.0   B\n",
        "1824  08LB047      1  2010/12/30  31.8   B\n",
        "1825  08LB047      1  2010/12/31  31.5   B\n",
        "\n",
        "[5 rows x 5 columns]"
       ]
      }
     ],
     "prompt_number": 10
    },
    {
     "cell_type": "markdown",
     "metadata": {},
     "source": [
      "no need to skip any rows here as there is no errant text etc."
     ]
    },
    {
     "cell_type": "code",
     "collapsed": false,
     "input": [
      "projectdf = pd.DataFrame(o8lb047)\n",
      "projectdf.head()"
     ],
     "language": "python",
     "metadata": {},
     "outputs": [
      {
       "html": [
        "<div style=\"max-height:1000px;max-width:1500px;overflow:auto;\">\n",
        "<table border=\"1\" class=\"dataframe\">\n",
        "  <thead>\n",
        "    <tr style=\"text-align: right;\">\n",
        "      <th></th>\n",
        "      <th> ID</th>\n",
        "      <th>PARAM</th>\n",
        "      <th>Date</th>\n",
        "      <th>Flow</th>\n",
        "      <th>SYM</th>\n",
        "    </tr>\n",
        "  </thead>\n",
        "  <tbody>\n",
        "    <tr>\n",
        "      <th>0</th>\n",
        "      <td> 08LB047</td>\n",
        "      <td> 1</td>\n",
        "      <td> 2006/01/01</td>\n",
        "      <td> 75</td>\n",
        "      <td> B</td>\n",
        "    </tr>\n",
        "    <tr>\n",
        "      <th>1</th>\n",
        "      <td> 08LB047</td>\n",
        "      <td> 1</td>\n",
        "      <td> 2006/01/02</td>\n",
        "      <td> 72</td>\n",
        "      <td> B</td>\n",
        "    </tr>\n",
        "    <tr>\n",
        "      <th>2</th>\n",
        "      <td> 08LB047</td>\n",
        "      <td> 1</td>\n",
        "      <td> 2006/01/03</td>\n",
        "      <td> 69</td>\n",
        "      <td> B</td>\n",
        "    </tr>\n",
        "    <tr>\n",
        "      <th>3</th>\n",
        "      <td> 08LB047</td>\n",
        "      <td> 1</td>\n",
        "      <td> 2006/01/04</td>\n",
        "      <td> 67</td>\n",
        "      <td> B</td>\n",
        "    </tr>\n",
        "    <tr>\n",
        "      <th>4</th>\n",
        "      <td> 08LB047</td>\n",
        "      <td> 1</td>\n",
        "      <td> 2006/01/05</td>\n",
        "      <td> 66</td>\n",
        "      <td> B</td>\n",
        "    </tr>\n",
        "  </tbody>\n",
        "</table>\n",
        "<p>5 rows \u00d7 5 columns</p>\n",
        "</div>"
       ],
       "metadata": {},
       "output_type": "pyout",
       "prompt_number": 11,
       "text": [
        "        ID  PARAM        Date  Flow SYM\n",
        "0  08LB047      1  2006/01/01    75   B\n",
        "1  08LB047      1  2006/01/02    72   B\n",
        "2  08LB047      1  2006/01/03    69   B\n",
        "3  08LB047      1  2006/01/04    67   B\n",
        "4  08LB047      1  2006/01/05    66   B\n",
        "\n",
        "[5 rows x 5 columns]"
       ]
      }
     ],
     "prompt_number": 11
    },
    {
     "cell_type": "code",
     "collapsed": false,
     "input": [
      "projectdf.index = pd.to_datetime(o8lb047.pop('Date'))"
     ],
     "language": "python",
     "metadata": {},
     "outputs": [],
     "prompt_number": 12
    },
    {
     "cell_type": "code",
     "collapsed": false,
     "input": [
      "projectdf.pop(' ID');\n",
      "projectdf.pop('PARAM');\n",
      "projectdf.pop('SYM');"
     ],
     "language": "python",
     "metadata": {},
     "outputs": [],
     "prompt_number": 13
    },
    {
     "cell_type": "code",
     "collapsed": false,
     "input": [
      "line, = plt.plot(projectdf.index, projectdf.Flow, linewidth = 1)\n",
      "plt.show()"
     ],
     "language": "python",
     "metadata": {},
     "outputs": [
      {
       "metadata": {},
       "output_type": "display_data",
       "png": "[encoded data removed]",
       "text": [
        "<matplotlib.figure.Figure at 0xc5ef0b8>"
       ]
      }
     ],
     "prompt_number": 14
    },
    {
     "cell_type": "markdown",
     "metadata": {},
     "source": [
      "Rename the two flow columns to something more meaningful"
     ]
    },
    {
     "cell_type": "code",
     "collapsed": false,
     "input": [
      "regionaldf = regionaldf.rename(columns={'Flow':'RegionalFlow'})\n",
      "projectdf = projectdf.rename(columns={'Flow':'ProjectFlow'})"
     ],
     "language": "python",
     "metadata": {},
     "outputs": [],
     "prompt_number": 15
    },
    {
     "cell_type": "markdown",
     "metadata": {},
     "source": [
      "Join regional and project flows into one data frame for further analysis.  The two original data frames are left as they may be used later in the analysis.  This should be reviewed when the notebook is more advanced.  .join(  ,how='outer') ensures that all data from both sources are in the new data frame.  Any missing data in either is back filled with NaN values."
     ]
    },
    {
     "cell_type": "code",
     "collapsed": false,
     "input": [
      "analysisdf=regionaldf.join(projectdf, how='outer')"
     ],
     "language": "python",
     "metadata": {},
     "outputs": [],
     "prompt_number": 16
    },
    {
     "cell_type": "code",
     "collapsed": false,
     "input": [
      "analysisdf.describe()"
     ],
     "language": "python",
     "metadata": {},
     "outputs": [
      {
       "html": [
        "<div style=\"max-height:1000px;max-width:1500px;overflow:auto;\">\n",
        "<table border=\"1\" class=\"dataframe\">\n",
        "  <thead>\n",
        "    <tr style=\"text-align: right;\">\n",
        "      <th></th>\n",
        "      <th>RegionalFlow</th>\n",
        "      <th>ProjectFlow</th>\n",
        "    </tr>\n",
        "  </thead>\n",
        "  <tbody>\n",
        "    <tr>\n",
        "      <th>count</th>\n",
        "      <td> 26520.000000</td>\n",
        "      <td> 1826.000000</td>\n",
        "    </tr>\n",
        "    <tr>\n",
        "      <th>mean</th>\n",
        "      <td>   223.072428</td>\n",
        "      <td>  150.703286</td>\n",
        "    </tr>\n",
        "    <tr>\n",
        "      <th>std</th>\n",
        "      <td>   236.204823</td>\n",
        "      <td>  149.415103</td>\n",
        "    </tr>\n",
        "    <tr>\n",
        "      <th>min</th>\n",
        "      <td>    19.500000</td>\n",
        "      <td>   20.000000</td>\n",
        "    </tr>\n",
        "    <tr>\n",
        "      <th>25%</th>\n",
        "      <td>    53.000000</td>\n",
        "      <td>   40.025000</td>\n",
        "    </tr>\n",
        "    <tr>\n",
        "      <th>50%</th>\n",
        "      <td>   118.000000</td>\n",
        "      <td>   83.900000</td>\n",
        "    </tr>\n",
        "    <tr>\n",
        "      <th>75%</th>\n",
        "      <td>   309.000000</td>\n",
        "      <td>  221.500000</td>\n",
        "    </tr>\n",
        "    <tr>\n",
        "      <th>max</th>\n",
        "      <td>  1460.000000</td>\n",
        "      <td>  843.000000</td>\n",
        "    </tr>\n",
        "  </tbody>\n",
        "</table>\n",
        "<p>8 rows \u00d7 2 columns</p>\n",
        "</div>"
       ],
       "metadata": {},
       "output_type": "pyout",
       "prompt_number": 17,
       "text": [
        "       RegionalFlow  ProjectFlow\n",
        "count  26520.000000  1826.000000\n",
        "mean     223.072428   150.703286\n",
        "std      236.204823   149.415103\n",
        "min       19.500000    20.000000\n",
        "25%       53.000000    40.025000\n",
        "50%      118.000000    83.900000\n",
        "75%      309.000000   221.500000\n",
        "max     1460.000000   843.000000\n",
        "\n",
        "[8 rows x 2 columns]"
       ]
      }
     ],
     "prompt_number": 17
    },
    {
     "cell_type": "markdown",
     "metadata": {},
     "source": [
      "Plot a basic line graph to view the two data sets"
     ]
    },
    {
     "cell_type": "code",
     "collapsed": false,
     "input": [
      "plt.figure(); analysisdf.plot()"
     ],
     "language": "python",
     "metadata": {},
     "outputs": [
      {
       "metadata": {},
       "output_type": "pyout",
       "prompt_number": 18,
       "text": [
        "<matplotlib.axes.AxesSubplot at 0xc624ac8>"
       ]
      },
      {
       "metadata": {},
       "output_type": "display_data",
       "text": [
        "<matplotlib.figure.Figure at 0x163275f8>"
       ]
      },
      {
       "metadata": {},
       "output_type": "display_data",
       "png": "[encoded data removed]",
       "text": [
        "<matplotlib.figure.Figure at 0x16324438>"
       ]
      }
     ],
     "prompt_number": 18
    },
    {
     "cell_type": "markdown",
     "metadata": {},
     "source": [
      "Generate a series for the day of the year, ie Jan 1 is day 1, Feb 1 is day 32 and December 31 is day 365 or 366.  Then turn the list object into a pandas series, and incorporate it inot the analysis data frame."
     ]
    },
    {
     "cell_type": "code",
     "collapsed": false,
     "input": [
      "dayofyearlist = []\n",
      "for dates in analysisdf.index:\n",
      "    dayofyear=dates.toordinal() - date(dates.year, 1, 1).toordinal()+1\n",
      "    dayofyearlist.append(dayofyear)"
     ],
     "language": "python",
     "metadata": {},
     "outputs": [],
     "prompt_number": 19
    },
    {
     "cell_type": "code",
     "collapsed": false,
     "input": [
      "dayofyearSeries = pd.Series(dayofyearlist, index = analysisdf.index)"
     ],
     "language": "python",
     "metadata": {},
     "outputs": [],
     "prompt_number": 20
    },
    {
     "cell_type": "code",
     "collapsed": false,
     "input": [
      "analysisdf['JDay'] = dayofyearSeries"
     ],
     "language": "python",
     "metadata": {},
     "outputs": [],
     "prompt_number": 21
    },
    {
     "cell_type": "code",
     "collapsed": false,
     "input": [
      "analysisdf.describe()"
     ],
     "language": "python",
     "metadata": {},
     "outputs": [
      {
       "html": [
        "<div style=\"max-height:1000px;max-width:1500px;overflow:auto;\">\n",
        "<table border=\"1\" class=\"dataframe\">\n",
        "  <thead>\n",
        "    <tr style=\"text-align: right;\">\n",
        "      <th></th>\n",
        "      <th>RegionalFlow</th>\n",
        "      <th>ProjectFlow</th>\n",
        "      <th>JDay</th>\n",
        "    </tr>\n",
        "  </thead>\n",
        "  <tbody>\n",
        "    <tr>\n",
        "      <th>count</th>\n",
        "      <td> 26520.000000</td>\n",
        "      <td> 1826.000000</td>\n",
        "      <td> 26520.000000</td>\n",
        "    </tr>\n",
        "    <tr>\n",
        "      <th>mean</th>\n",
        "      <td>   223.072428</td>\n",
        "      <td>  150.703286</td>\n",
        "      <td>   183.064367</td>\n",
        "    </tr>\n",
        "    <tr>\n",
        "      <th>std</th>\n",
        "      <td>   236.204823</td>\n",
        "      <td>  149.415103</td>\n",
        "      <td>   105.451398</td>\n",
        "    </tr>\n",
        "    <tr>\n",
        "      <th>min</th>\n",
        "      <td>    19.500000</td>\n",
        "      <td>   20.000000</td>\n",
        "      <td>     1.000000</td>\n",
        "    </tr>\n",
        "    <tr>\n",
        "      <th>25%</th>\n",
        "      <td>    53.000000</td>\n",
        "      <td>   40.025000</td>\n",
        "      <td>    92.000000</td>\n",
        "    </tr>\n",
        "    <tr>\n",
        "      <th>50%</th>\n",
        "      <td>   118.000000</td>\n",
        "      <td>   83.900000</td>\n",
        "      <td>   183.000000</td>\n",
        "    </tr>\n",
        "    <tr>\n",
        "      <th>75%</th>\n",
        "      <td>   309.000000</td>\n",
        "      <td>  221.500000</td>\n",
        "      <td>   275.000000</td>\n",
        "    </tr>\n",
        "    <tr>\n",
        "      <th>max</th>\n",
        "      <td>  1460.000000</td>\n",
        "      <td>  843.000000</td>\n",
        "      <td>   366.000000</td>\n",
        "    </tr>\n",
        "  </tbody>\n",
        "</table>\n",
        "<p>8 rows \u00d7 3 columns</p>\n",
        "</div>"
       ],
       "metadata": {},
       "output_type": "pyout",
       "prompt_number": 22,
       "text": [
        "       RegionalFlow  ProjectFlow          JDay\n",
        "count  26520.000000  1826.000000  26520.000000\n",
        "mean     223.072428   150.703286    183.064367\n",
        "std      236.204823   149.415103    105.451398\n",
        "min       19.500000    20.000000      1.000000\n",
        "25%       53.000000    40.025000     92.000000\n",
        "50%      118.000000    83.900000    183.000000\n",
        "75%      309.000000   221.500000    275.000000\n",
        "max     1460.000000   843.000000    366.000000\n",
        "\n",
        "[8 rows x 3 columns]"
       ]
      }
     ],
     "prompt_number": 22
    },
    {
     "cell_type": "heading",
     "level": 2,
     "metadata": {},
     "source": [
      "Streamflow statistics"
     ]
    },
    {
     "cell_type": "markdown",
     "metadata": {},
     "source": [
      "Calculate the median and quartiles for each day in the hydraulic year."
     ]
    },
    {
     "cell_type": "code",
     "collapsed": false,
     "input": [
      "DayGrouped = analysisdf.groupby('JDay')"
     ],
     "language": "python",
     "metadata": {},
     "outputs": [],
     "prompt_number": 23
    },
    {
     "cell_type": "markdown",
     "metadata": {},
     "source": [
      "Plot the median values for each day of the year"
     ]
    },
    {
     "cell_type": "code",
     "collapsed": false,
     "input": [
      "plt.figure(); DayGrouped.aggregate(np.median).plot()"
     ],
     "language": "python",
     "metadata": {},
     "outputs": [
      {
       "metadata": {},
       "output_type": "pyout",
       "prompt_number": 24,
       "text": [
        "<matplotlib.axes.AxesSubplot at 0x16327f60>"
       ]
      },
      {
       "metadata": {},
       "output_type": "display_data",
       "text": [
        "<matplotlib.figure.Figure at 0xc601668>"
       ]
      },
      {
       "metadata": {},
       "output_type": "display_data",
       "png": "[encoded data removed]",
       "text": [
        "<matplotlib.figure.Figure at 0x16324c88>"
       ]
      }
     ],
     "prompt_number": 24
    },
    {
     "cell_type": "markdown",
     "metadata": {},
     "source": [
      "Calculate the Median and quartiles for each day of the year.  Create a data frame that contains the daily statistics for both stations and plot the output"
     ]
    },
    {
     "cell_type": "code",
     "collapsed": false,
     "input": [
      "hydReg25 = DayGrouped['RegionalFlow'].quantile(.25)\n",
      "hydReg50 = DayGrouped['RegionalFlow'].quantile(.5)\n",
      "hydReg75 = DayGrouped['RegionalFlow'].quantile(.75)\n",
      "hydSite25 = DayGrouped['ProjectFlow'].quantile(.25)\n",
      "hydSite50 = DayGrouped['ProjectFlow'].quantile(.5)\n",
      "hydSite75 = DayGrouped['ProjectFlow'].quantile(.75)"
     ],
     "language": "python",
     "metadata": {},
     "outputs": [],
     "prompt_number": 25
    },
    {
     "cell_type": "code",
     "collapsed": false,
     "input": [
      "summarydf = pd.DataFrame(hydReg25, index=hydReg25.index,columns=['Regional 25%'] )\n",
      "summarydf['Regional 50%']= hydReg50\n",
      "summarydf['Regional 75%']= hydReg75\n",
      "summarydf['Site 25%']= hydSite25\n",
      "summarydf['Site 50%']= hydSite50\n",
      "summarydf['Site 75%']= hydSite75"
     ],
     "language": "python",
     "metadata": {},
     "outputs": [],
     "prompt_number": 26
    },
    {
     "cell_type": "code",
     "collapsed": false,
     "input": [
      "plt.figure(); summarydf.plot()"
     ],
     "language": "python",
     "metadata": {},
     "outputs": [
      {
       "metadata": {},
       "output_type": "pyout",
       "prompt_number": 27,
       "text": [
        "<matplotlib.axes.AxesSubplot at 0x168c0fd0>"
       ]
      },
      {
       "metadata": {},
       "output_type": "display_data",
       "text": [
        "<matplotlib.figure.Figure at 0x16893710>"
       ]
      },
      {
       "metadata": {},
       "output_type": "display_data",
       "png": "[encoded data removed]",
       "text": [
        "<matplotlib.figure.Figure at 0x16ebe668>"
       ]
      }
     ],
     "prompt_number": 27
    },
    {
     "cell_type": "markdown",
     "metadata": {},
     "source": [
      "Plot the maximum and minimum flows observed on each of the days."
     ]
    },
    {
     "cell_type": "code",
     "collapsed": false,
     "input": [
      "plt.figure(); (DayGrouped['RegionalFlow'].max()).plot()"
     ],
     "language": "python",
     "metadata": {},
     "outputs": [
      {
       "metadata": {},
       "output_type": "pyout",
       "prompt_number": 28,
       "text": [
        "<matplotlib.axes.AxesSubplot at 0x1632aa58>"
       ]
      },
      {
       "metadata": {},
       "output_type": "display_data",
       "png": "[encoded data removed]",
       "text": [
        "<matplotlib.figure.Figure at 0x1632a7b8>"
       ]
      }
     ],
     "prompt_number": 28
    },
    {
     "cell_type": "code",
     "collapsed": false,
     "input": [
      "plt.figure(); (DayGrouped['RegionalFlow'].min()).plot()"
     ],
     "language": "python",
     "metadata": {},
     "outputs": [
      {
       "metadata": {},
       "output_type": "pyout",
       "prompt_number": 29,
       "text": [
        "<matplotlib.axes.AxesSubplot at 0x168b8b00>"
       ]
      },
      {
       "metadata": {},
       "output_type": "display_data",
       "png": "[encoded data removed]",
       "text": [
        "<matplotlib.figure.Figure at 0x168b8ac8>"
       ]
      }
     ],
     "prompt_number": 29
    },
    {
     "cell_type": "heading",
     "level": 2,
     "metadata": {},
     "source": [
      "Flow Duration Curve"
     ]
    },
    {
     "cell_type": "markdown",
     "metadata": {},
     "source": [
      "Calculate the percentile flows from 0% - 100%"
     ]
    },
    {
     "cell_type": "code",
     "collapsed": false,
     "input": [
      "ptileList=[analysisdf.RegionalFlow.min()]\n",
      "for percentile in range (1,100):\n",
      "    ptile=percentile/100.\n",
      "    nextptile = analysisdf.RegionalFlow.quantile(ptile)\n",
      "    ptileList.append(nextptile)\n",
      "ptileList.append(analysisdf.RegionalFlow.max())"
     ],
     "language": "python",
     "metadata": {},
     "outputs": [],
     "prompt_number": 30
    },
    {
     "cell_type": "code",
     "collapsed": false,
     "input": [
      "ptileSeries = pd.Series(sorted(ptileList, reverse=True))\n",
      "plt.figure(); ptileSeries.plot()"
     ],
     "language": "python",
     "metadata": {},
     "outputs": [
      {
       "metadata": {},
       "output_type": "pyout",
       "prompt_number": 31,
       "text": [
        "<matplotlib.axes.AxesSubplot at 0x16301b70>"
       ]
      },
      {
       "metadata": {},
       "output_type": "display_data",
       "png": "[encoded data removed]",
       "text": [
        "<matplotlib.figure.Figure at 0x16ea5390>"
       ]
      }
     ],
     "prompt_number": 31
    },
    {
     "cell_type": "heading",
     "level": 2,
     "metadata": {},
     "source": [
      "Flood Frequency analysis"
     ]
    },
    {
     "cell_type": "markdown",
     "metadata": {},
     "source": [
      "Group the data annually and pull out the annual maximum flow."
     ]
    },
    {
     "cell_type": "code",
     "collapsed": false,
     "input": [
      "YearGrouped = analysisdf.groupby(analysisdf.index.year)"
     ],
     "language": "python",
     "metadata": {},
     "outputs": [],
     "prompt_number": 32
    },
    {
     "cell_type": "code",
     "collapsed": false,
     "input": [
      "plt.figure(); (YearGrouped['RegionalFlow'].count()).plot()"
     ],
     "language": "python",
     "metadata": {},
     "outputs": [
      {
       "metadata": {},
       "output_type": "pyout",
       "prompt_number": 33,
       "text": [
        "<matplotlib.axes.AxesSubplot at 0x176544e0>"
       ]
      },
      {
       "metadata": {},
       "output_type": "display_data",
       "png": "[encoded data removed]",
       "text": [
        "<matplotlib.figure.Figure at 0x17654e10>"
       ]
      }
     ],
     "prompt_number": 33
    },
    {
     "cell_type": "markdown",
     "metadata": {},
     "source": [
      "Some years are missing data, annual floods and droughts should only be calculated on complete years(for now).  \n",
      "\n",
      "Create a new data frame with only complete years of data.  \n",
      "\n",
      "Start by populating a list of incomplete years. \n",
      "\n",
      "(to do list; from the min and max daily flows the maximum recorded flows between days 0 and 100 and between days 325 and 366 are all less than the minimum flows recorded between days 125 and 250.  it is therefore not possible that the maximum flow occured in the period of day 0 - 100, 325 - 366.  to do modify the removal process below to include years that span the high flow periods 100 - 325 where the max flood could theoretically have happened."
     ]
    },
    {
     "cell_type": "code",
     "collapsed": false,
     "input": [
      "itervar=YearGrouped.count()\n",
      "IncompleteYearList=[]\n",
      "for years in itervar.index:    \n",
      "   if itervar.loc[years,'JDay']<360 :\n",
      "       IncompleteYearList.append(years);\n",
      "IncompleteYearList"
     ],
     "language": "python",
     "metadata": {},
     "outputs": [
      {
       "metadata": {},
       "output_type": "pyout",
       "prompt_number": 34,
       "text": [
        "[1919, 1920, 1921, 1922, 1923, 1928, 1950]"
       ]
      }
     ],
     "prompt_number": 34
    },
    {
     "cell_type": "markdown",
     "metadata": {},
     "source": [
      "Create a new data frame which retains only the complete years"
     ]
    },
    {
     "cell_type": "code",
     "collapsed": false,
     "input": [
      "CompleteYeardf = analysisdf[np.in1d(analysisdf.index.year, IncompleteYearList, invert = True)]"
     ],
     "language": "python",
     "metadata": {},
     "outputs": [],
     "prompt_number": 35
    },
    {
     "cell_type": "markdown",
     "metadata": {},
     "source": [
      "Group new data frame by year, and check by ploting."
     ]
    },
    {
     "cell_type": "code",
     "collapsed": false,
     "input": [
      "CompleteYearGrouped = CompleteYeardf.groupby(CompleteYeardf.index.year)"
     ],
     "language": "python",
     "metadata": {},
     "outputs": [],
     "prompt_number": 36
    },
    {
     "cell_type": "code",
     "collapsed": false,
     "input": [
      "plt.figure(); (CompleteYearGrouped['RegionalFlow'].count()).plot()"
     ],
     "language": "python",
     "metadata": {},
     "outputs": [
      {
       "metadata": {},
       "output_type": "pyout",
       "prompt_number": 37,
       "text": [
        "<matplotlib.axes.AxesSubplot at 0x173a8710>"
       ]
      },
      {
       "metadata": {},
       "output_type": "display_data",
       "png": "[encoded data removed]",
       "text": [
        "<matplotlib.figure.Figure at 0x1772f128>"
       ]
      }
     ],
     "prompt_number": 37
    },
    {
     "cell_type": "code",
     "collapsed": false,
     "input": [
      "AnnualMaxFlow = CompleteYearGrouped.max()\n",
      "AnnualMaxFlow.describe()"
     ],
     "language": "python",
     "metadata": {},
     "outputs": [
      {
       "html": [
        "<div style=\"max-height:1000px;max-width:1500px;overflow:auto;\">\n",
        "<table border=\"1\" class=\"dataframe\">\n",
        "  <thead>\n",
        "    <tr style=\"text-align: right;\">\n",
        "      <th></th>\n",
        "      <th>RegionalFlow</th>\n",
        "      <th>ProjectFlow</th>\n",
        "      <th>JDay</th>\n",
        "    </tr>\n",
        "  </thead>\n",
        "  <tbody>\n",
        "    <tr>\n",
        "      <th>count</th>\n",
        "      <td>   69.000000</td>\n",
        "      <td>   5.000000</td>\n",
        "      <td>  69.000000</td>\n",
        "    </tr>\n",
        "    <tr>\n",
        "      <th>mean</th>\n",
        "      <td>  957.217391</td>\n",
        "      <td> 674.200000</td>\n",
        "      <td> 365.246377</td>\n",
        "    </tr>\n",
        "    <tr>\n",
        "      <th>std</th>\n",
        "      <td>  187.655337</td>\n",
        "      <td> 122.121661</td>\n",
        "      <td>   0.434057</td>\n",
        "    </tr>\n",
        "    <tr>\n",
        "      <th>min</th>\n",
        "      <td>  569.000000</td>\n",
        "      <td> 560.000000</td>\n",
        "      <td> 365.000000</td>\n",
        "    </tr>\n",
        "    <tr>\n",
        "      <th>25%</th>\n",
        "      <td>  828.000000</td>\n",
        "      <td> 562.000000</td>\n",
        "      <td> 365.000000</td>\n",
        "    </tr>\n",
        "    <tr>\n",
        "      <th>50%</th>\n",
        "      <td>  940.000000</td>\n",
        "      <td> 659.000000</td>\n",
        "      <td> 365.000000</td>\n",
        "    </tr>\n",
        "    <tr>\n",
        "      <th>75%</th>\n",
        "      <td> 1080.000000</td>\n",
        "      <td> 747.000000</td>\n",
        "      <td> 365.000000</td>\n",
        "    </tr>\n",
        "    <tr>\n",
        "      <th>max</th>\n",
        "      <td> 1460.000000</td>\n",
        "      <td> 843.000000</td>\n",
        "      <td> 366.000000</td>\n",
        "    </tr>\n",
        "  </tbody>\n",
        "</table>\n",
        "<p>8 rows \u00d7 3 columns</p>\n",
        "</div>"
       ],
       "metadata": {},
       "output_type": "pyout",
       "prompt_number": 38,
       "text": [
        "       RegionalFlow  ProjectFlow        JDay\n",
        "count     69.000000     5.000000   69.000000\n",
        "mean     957.217391   674.200000  365.246377\n",
        "std      187.655337   122.121661    0.434057\n",
        "min      569.000000   560.000000  365.000000\n",
        "25%      828.000000   562.000000  365.000000\n",
        "50%      940.000000   659.000000  365.000000\n",
        "75%     1080.000000   747.000000  365.000000\n",
        "max     1460.000000   843.000000  366.000000\n",
        "\n",
        "[8 rows x 3 columns]"
       ]
      }
     ],
     "prompt_number": 38
    },
    {
     "cell_type": "markdown",
     "metadata": {},
     "source": [
      "Probability estimate of the annual observed floods from the regional record.\n",
      "\n",
      "$$Cumulative Probability = \\frac{Rank}{Total Observations + 1}$$"
     ]
    },
    {
     "cell_type": "code",
     "collapsed": false,
     "input": [
      "PcumList = []\n",
      "RankRegMax = pd.Series(sorted(AnnualMaxFlow.RegionalFlow))\n",
      "for rank in RankRegMax.index:\n",
      "    Pcum = float(rank + 1)/(len(RankRegMax.index)+1)\n",
      "    PcumList.append(Pcum)"
     ],
     "language": "python",
     "metadata": {},
     "outputs": [],
     "prompt_number": 39
    },
    {
     "cell_type": "markdown",
     "metadata": {},
     "source": [
      "Curve fitting is internal to scipy and is a MLE fit that returns the shape parameter (c), location parameter (loc) and the sclae prameter (scale).  The design floods, 10 and 200 year returns, are also plotted as large green dots. \n",
      "\n",
      "(To do Add error and more distributions for comparison.)"
     ]
    },
    {
     "cell_type": "code",
     "collapsed": false,
     "input": [
      "_=np.linspace(500,1500)\n",
      "ReturnProbability =  (0.9, 0.995) # 10 year and 200 year events\n",
      "(c,loc,scale) = genextreme.fit(AnnualMaxFlow.RegionalFlow)\n",
      "(Y10Flow, Y200Flow) = genextreme.ppf(ReturnProbability,c,loc,scale)\n",
      "plt.plot(_,genextreme.cdf(_,c,loc,scale))\n",
      "plt.plot(RankRegMax, PcumList, 'r.')\n",
      "plt.plot((Y10Flow, Y200Flow), ReturnProbability, 'go')\n",
      "plt.xlabel('Flood Flow (m3/s)')\n",
      "plt.ylabel('Non-exceedance Probability')"
     ],
     "language": "python",
     "metadata": {},
     "outputs": [
      {
       "metadata": {},
       "output_type": "pyout",
       "prompt_number": 40,
       "text": [
        "<matplotlib.text.Text at 0x17b36b38>"
       ]
      },
      {
       "metadata": {},
       "output_type": "display_data",
       "png": "[encoded data removed]",
       "text": [
        "<matplotlib.figure.Figure at 0x16e514e0>"
       ]
      }
     ],
     "prompt_number": 40
    },
    {
     "cell_type": "markdown",
     "metadata": {},
     "source": [
      "One in ten years is modeled to have a daily flow higher than; Y10Flow\n",
      "\n",
      "One in two hundred years will have a flow higher than; Y200Flow"
     ]
    },
    {
     "cell_type": "code",
     "collapsed": false,
     "input": [
      "Y10Flow, Y200Flow"
     ],
     "language": "python",
     "metadata": {},
     "outputs": [
      {
       "metadata": {},
       "output_type": "pyout",
       "prompt_number": 41,
       "text": [
        "(1204.0447199847119, 1481.6685741324652)"
       ]
      }
     ],
     "prompt_number": 41
    },
    {
     "cell_type": "markdown",
     "metadata": {},
     "source": [
      "The 90th percentile flow from the observations is:"
     ]
    },
    {
     "cell_type": "code",
     "collapsed": false,
     "input": [
      "amf = AnnualMaxFlow.RegionalFlow.quantile(.9)\n",
      "amf"
     ],
     "language": "python",
     "metadata": {},
     "outputs": [
      {
       "metadata": {},
       "output_type": "pyout",
       "prompt_number": 42,
       "text": [
        "1184.0"
       ]
      }
     ],
     "prompt_number": 42
    },
    {
     "cell_type": "markdown",
     "metadata": {},
     "source": [
      "The GEV is overpredicting the 10 year event by: x%"
     ]
    },
    {
     "cell_type": "code",
     "collapsed": false,
     "input": [
      "(Y10Flow-amf)/amf*100"
     ],
     "language": "python",
     "metadata": {},
     "outputs": [
      {
       "metadata": {},
       "output_type": "pyout",
       "prompt_number": 43,
       "text": [
        "1.6929662149249953"
       ]
      }
     ],
     "prompt_number": 43
    },
    {
     "cell_type": "heading",
     "level": 2,
     "metadata": {},
     "source": [
      "Seven Day Low Flows"
     ]
    },
    {
     "cell_type": "markdown",
     "metadata": {},
     "source": [
      "All flows are averaged over a seven day period.  The analysis only considers complete years.  The pandas function rolling_mean does not stop at the end of a year if there is a missing year following.  The series calculated below may contain erronious data and a work around is required.  It is accurate for consecutive years."
     ]
    },
    {
     "cell_type": "code",
     "collapsed": false,
     "input": [
      "CompleteYeardf"
     ],
     "language": "python",
     "metadata": {},
     "outputs": [
      {
       "html": [
        "<div style=\"max-height:1000px;max-width:1500px;overflow:auto;\">\n",
        "<table border=\"1\" class=\"dataframe\">\n",
        "  <thead>\n",
        "    <tr style=\"text-align: right;\">\n",
        "      <th></th>\n",
        "      <th>RegionalFlow</th>\n",
        "      <th>ProjectFlow</th>\n",
        "      <th>JDay</th>\n",
        "    </tr>\n",
        "    <tr>\n",
        "      <th>Date</th>\n",
        "      <th></th>\n",
        "      <th></th>\n",
        "      <th></th>\n",
        "    </tr>\n",
        "  </thead>\n",
        "  <tbody>\n",
        "    <tr>\n",
        "      <th>1914-01-01</th>\n",
        "      <td> 144</td>\n",
        "      <td>NaN</td>\n",
        "      <td>  1</td>\n",
        "    </tr>\n",
        "    <tr>\n",
        "      <th>1914-01-02</th>\n",
        "      <td> 144</td>\n",
        "      <td>NaN</td>\n",
        "      <td>  2</td>\n",
        "    </tr>\n",
        "    <tr>\n",
        "      <th>1914-01-03</th>\n",
        "      <td> 144</td>\n",
        "      <td>NaN</td>\n",
        "      <td>  3</td>\n",
        "    </tr>\n",
        "    <tr>\n",
        "      <th>1914-01-04</th>\n",
        "      <td> 140</td>\n",
        "      <td>NaN</td>\n",
        "      <td>  4</td>\n",
        "    </tr>\n",
        "    <tr>\n",
        "      <th>1914-01-05</th>\n",
        "      <td> 140</td>\n",
        "      <td>NaN</td>\n",
        "      <td>  5</td>\n",
        "    </tr>\n",
        "    <tr>\n",
        "      <th>1914-01-06</th>\n",
        "      <td> 136</td>\n",
        "      <td>NaN</td>\n",
        "      <td>  6</td>\n",
        "    </tr>\n",
        "    <tr>\n",
        "      <th>1914-01-07</th>\n",
        "      <td> 136</td>\n",
        "      <td>NaN</td>\n",
        "      <td>  7</td>\n",
        "    </tr>\n",
        "    <tr>\n",
        "      <th>1914-01-08</th>\n",
        "      <td> 140</td>\n",
        "      <td>NaN</td>\n",
        "      <td>  8</td>\n",
        "    </tr>\n",
        "    <tr>\n",
        "      <th>1914-01-09</th>\n",
        "      <td> 140</td>\n",
        "      <td>NaN</td>\n",
        "      <td>  9</td>\n",
        "    </tr>\n",
        "    <tr>\n",
        "      <th>1914-01-10</th>\n",
        "      <td> 140</td>\n",
        "      <td>NaN</td>\n",
        "      <td> 10</td>\n",
        "    </tr>\n",
        "    <tr>\n",
        "      <th>1914-01-11</th>\n",
        "      <td> 144</td>\n",
        "      <td>NaN</td>\n",
        "      <td> 11</td>\n",
        "    </tr>\n",
        "    <tr>\n",
        "      <th>1914-01-12</th>\n",
        "      <td> 144</td>\n",
        "      <td>NaN</td>\n",
        "      <td> 12</td>\n",
        "    </tr>\n",
        "    <tr>\n",
        "      <th>1914-01-13</th>\n",
        "      <td> 144</td>\n",
        "      <td>NaN</td>\n",
        "      <td> 13</td>\n",
        "    </tr>\n",
        "    <tr>\n",
        "      <th>1914-01-14</th>\n",
        "      <td> 144</td>\n",
        "      <td>NaN</td>\n",
        "      <td> 14</td>\n",
        "    </tr>\n",
        "    <tr>\n",
        "      <th>1914-01-15</th>\n",
        "      <td> 144</td>\n",
        "      <td>NaN</td>\n",
        "      <td> 15</td>\n",
        "    </tr>\n",
        "    <tr>\n",
        "      <th>1914-01-16</th>\n",
        "      <td> 144</td>\n",
        "      <td>NaN</td>\n",
        "      <td> 16</td>\n",
        "    </tr>\n",
        "    <tr>\n",
        "      <th>1914-01-17</th>\n",
        "      <td> 140</td>\n",
        "      <td>NaN</td>\n",
        "      <td> 17</td>\n",
        "    </tr>\n",
        "    <tr>\n",
        "      <th>1914-01-18</th>\n",
        "      <td> 140</td>\n",
        "      <td>NaN</td>\n",
        "      <td> 18</td>\n",
        "    </tr>\n",
        "    <tr>\n",
        "      <th>1914-01-19</th>\n",
        "      <td> 140</td>\n",
        "      <td>NaN</td>\n",
        "      <td> 19</td>\n",
        "    </tr>\n",
        "    <tr>\n",
        "      <th>1914-01-20</th>\n",
        "      <td> 140</td>\n",
        "      <td>NaN</td>\n",
        "      <td> 20</td>\n",
        "    </tr>\n",
        "    <tr>\n",
        "      <th>1914-01-21</th>\n",
        "      <td> 144</td>\n",
        "      <td>NaN</td>\n",
        "      <td> 21</td>\n",
        "    </tr>\n",
        "    <tr>\n",
        "      <th>1914-01-22</th>\n",
        "      <td> 144</td>\n",
        "      <td>NaN</td>\n",
        "      <td> 22</td>\n",
        "    </tr>\n",
        "    <tr>\n",
        "      <th>1914-01-23</th>\n",
        "      <td> 144</td>\n",
        "      <td>NaN</td>\n",
        "      <td> 23</td>\n",
        "    </tr>\n",
        "    <tr>\n",
        "      <th>1914-01-24</th>\n",
        "      <td> 144</td>\n",
        "      <td>NaN</td>\n",
        "      <td> 24</td>\n",
        "    </tr>\n",
        "    <tr>\n",
        "      <th>1914-01-25</th>\n",
        "      <td> 144</td>\n",
        "      <td>NaN</td>\n",
        "      <td> 25</td>\n",
        "    </tr>\n",
        "    <tr>\n",
        "      <th>1914-01-26</th>\n",
        "      <td> 144</td>\n",
        "      <td>NaN</td>\n",
        "      <td> 26</td>\n",
        "    </tr>\n",
        "    <tr>\n",
        "      <th>1914-01-27</th>\n",
        "      <td> 144</td>\n",
        "      <td>NaN</td>\n",
        "      <td> 27</td>\n",
        "    </tr>\n",
        "    <tr>\n",
        "      <th>1914-01-28</th>\n",
        "      <td> 150</td>\n",
        "      <td>NaN</td>\n",
        "      <td> 28</td>\n",
        "    </tr>\n",
        "    <tr>\n",
        "      <th>1914-01-29</th>\n",
        "      <td> 150</td>\n",
        "      <td>NaN</td>\n",
        "      <td> 29</td>\n",
        "    </tr>\n",
        "    <tr>\n",
        "      <th>1914-01-30</th>\n",
        "      <td> 150</td>\n",
        "      <td>NaN</td>\n",
        "      <td> 30</td>\n",
        "    </tr>\n",
        "    <tr>\n",
        "      <th>1914-01-31</th>\n",
        "      <td> 150</td>\n",
        "      <td>NaN</td>\n",
        "      <td> 31</td>\n",
        "    </tr>\n",
        "    <tr>\n",
        "      <th>1914-02-01</th>\n",
        "      <td> 150</td>\n",
        "      <td>NaN</td>\n",
        "      <td> 32</td>\n",
        "    </tr>\n",
        "    <tr>\n",
        "      <th>1914-02-02</th>\n",
        "      <td> 154</td>\n",
        "      <td>NaN</td>\n",
        "      <td> 33</td>\n",
        "    </tr>\n",
        "    <tr>\n",
        "      <th>1914-02-03</th>\n",
        "      <td> 154</td>\n",
        "      <td>NaN</td>\n",
        "      <td> 34</td>\n",
        "    </tr>\n",
        "    <tr>\n",
        "      <th>1914-02-04</th>\n",
        "      <td> 154</td>\n",
        "      <td>NaN</td>\n",
        "      <td> 35</td>\n",
        "    </tr>\n",
        "    <tr>\n",
        "      <th>1914-02-05</th>\n",
        "      <td> 160</td>\n",
        "      <td>NaN</td>\n",
        "      <td> 36</td>\n",
        "    </tr>\n",
        "    <tr>\n",
        "      <th>1914-02-06</th>\n",
        "      <td> 160</td>\n",
        "      <td>NaN</td>\n",
        "      <td> 37</td>\n",
        "    </tr>\n",
        "    <tr>\n",
        "      <th>1914-02-07</th>\n",
        "      <td> 160</td>\n",
        "      <td>NaN</td>\n",
        "      <td> 38</td>\n",
        "    </tr>\n",
        "    <tr>\n",
        "      <th>1914-02-08</th>\n",
        "      <td> 160</td>\n",
        "      <td>NaN</td>\n",
        "      <td> 39</td>\n",
        "    </tr>\n",
        "    <tr>\n",
        "      <th>1914-02-09</th>\n",
        "      <td> 160</td>\n",
        "      <td>NaN</td>\n",
        "      <td> 40</td>\n",
        "    </tr>\n",
        "    <tr>\n",
        "      <th>1914-02-10</th>\n",
        "      <td> 160</td>\n",
        "      <td>NaN</td>\n",
        "      <td> 41</td>\n",
        "    </tr>\n",
        "    <tr>\n",
        "      <th>1914-02-11</th>\n",
        "      <td> 160</td>\n",
        "      <td>NaN</td>\n",
        "      <td> 42</td>\n",
        "    </tr>\n",
        "    <tr>\n",
        "      <th>1914-02-12</th>\n",
        "      <td> 160</td>\n",
        "      <td>NaN</td>\n",
        "      <td> 43</td>\n",
        "    </tr>\n",
        "    <tr>\n",
        "      <th>1914-02-13</th>\n",
        "      <td> 154</td>\n",
        "      <td>NaN</td>\n",
        "      <td> 44</td>\n",
        "    </tr>\n",
        "    <tr>\n",
        "      <th>1914-02-14</th>\n",
        "      <td> 154</td>\n",
        "      <td>NaN</td>\n",
        "      <td> 45</td>\n",
        "    </tr>\n",
        "    <tr>\n",
        "      <th>1914-02-15</th>\n",
        "      <td> 154</td>\n",
        "      <td>NaN</td>\n",
        "      <td> 46</td>\n",
        "    </tr>\n",
        "    <tr>\n",
        "      <th>1914-02-16</th>\n",
        "      <td> 154</td>\n",
        "      <td>NaN</td>\n",
        "      <td> 47</td>\n",
        "    </tr>\n",
        "    <tr>\n",
        "      <th>1914-02-17</th>\n",
        "      <td> 154</td>\n",
        "      <td>NaN</td>\n",
        "      <td> 48</td>\n",
        "    </tr>\n",
        "    <tr>\n",
        "      <th>1914-02-18</th>\n",
        "      <td> 160</td>\n",
        "      <td>NaN</td>\n",
        "      <td> 49</td>\n",
        "    </tr>\n",
        "    <tr>\n",
        "      <th>1914-02-19</th>\n",
        "      <td> 160</td>\n",
        "      <td>NaN</td>\n",
        "      <td> 50</td>\n",
        "    </tr>\n",
        "    <tr>\n",
        "      <th>1914-02-20</th>\n",
        "      <td> 160</td>\n",
        "      <td>NaN</td>\n",
        "      <td> 51</td>\n",
        "    </tr>\n",
        "    <tr>\n",
        "      <th>1914-02-21</th>\n",
        "      <td> 160</td>\n",
        "      <td>NaN</td>\n",
        "      <td> 52</td>\n",
        "    </tr>\n",
        "    <tr>\n",
        "      <th>1914-02-22</th>\n",
        "      <td> 160</td>\n",
        "      <td>NaN</td>\n",
        "      <td> 53</td>\n",
        "    </tr>\n",
        "    <tr>\n",
        "      <th>1914-02-23</th>\n",
        "      <td> 160</td>\n",
        "      <td>NaN</td>\n",
        "      <td> 54</td>\n",
        "    </tr>\n",
        "    <tr>\n",
        "      <th>1914-02-24</th>\n",
        "      <td> 160</td>\n",
        "      <td>NaN</td>\n",
        "      <td> 55</td>\n",
        "    </tr>\n",
        "    <tr>\n",
        "      <th>1914-02-25</th>\n",
        "      <td> 160</td>\n",
        "      <td>NaN</td>\n",
        "      <td> 56</td>\n",
        "    </tr>\n",
        "    <tr>\n",
        "      <th>1914-02-26</th>\n",
        "      <td> 166</td>\n",
        "      <td>NaN</td>\n",
        "      <td> 57</td>\n",
        "    </tr>\n",
        "    <tr>\n",
        "      <th>1914-02-27</th>\n",
        "      <td> 166</td>\n",
        "      <td>NaN</td>\n",
        "      <td> 58</td>\n",
        "    </tr>\n",
        "    <tr>\n",
        "      <th>1914-02-28</th>\n",
        "      <td> 166</td>\n",
        "      <td>NaN</td>\n",
        "      <td> 59</td>\n",
        "    </tr>\n",
        "    <tr>\n",
        "      <th>1914-03-01</th>\n",
        "      <td> 166</td>\n",
        "      <td>NaN</td>\n",
        "      <td> 60</td>\n",
        "    </tr>\n",
        "    <tr>\n",
        "      <th></th>\n",
        "      <td>...</td>\n",
        "      <td>...</td>\n",
        "      <td>...</td>\n",
        "    </tr>\n",
        "  </tbody>\n",
        "</table>\n",
        "<p>25202 rows \u00d7 3 columns</p>\n",
        "</div>"
       ],
       "metadata": {},
       "output_type": "pyout",
       "prompt_number": 44,
       "text": [
        "            RegionalFlow  ProjectFlow  JDay\n",
        "Date                                       \n",
        "1914-01-01           144          NaN     1\n",
        "1914-01-02           144          NaN     2\n",
        "1914-01-03           144          NaN     3\n",
        "1914-01-04           140          NaN     4\n",
        "1914-01-05           140          NaN     5\n",
        "1914-01-06           136          NaN     6\n",
        "1914-01-07           136          NaN     7\n",
        "1914-01-08           140          NaN     8\n",
        "1914-01-09           140          NaN     9\n",
        "1914-01-10           140          NaN    10\n",
        "1914-01-11           144          NaN    11\n",
        "1914-01-12           144          NaN    12\n",
        "1914-01-13           144          NaN    13\n",
        "1914-01-14           144          NaN    14\n",
        "1914-01-15           144          NaN    15\n",
        "1914-01-16           144          NaN    16\n",
        "1914-01-17           140          NaN    17\n",
        "1914-01-18           140          NaN    18\n",
        "1914-01-19           140          NaN    19\n",
        "1914-01-20           140          NaN    20\n",
        "1914-01-21           144          NaN    21\n",
        "1914-01-22           144          NaN    22\n",
        "1914-01-23           144          NaN    23\n",
        "1914-01-24           144          NaN    24\n",
        "1914-01-25           144          NaN    25\n",
        "1914-01-26           144          NaN    26\n",
        "1914-01-27           144          NaN    27\n",
        "1914-01-28           150          NaN    28\n",
        "1914-01-29           150          NaN    29\n",
        "1914-01-30           150          NaN    30\n",
        "1914-01-31           150          NaN    31\n",
        "1914-02-01           150          NaN    32\n",
        "1914-02-02           154          NaN    33\n",
        "1914-02-03           154          NaN    34\n",
        "1914-02-04           154          NaN    35\n",
        "1914-02-05           160          NaN    36\n",
        "1914-02-06           160          NaN    37\n",
        "1914-02-07           160          NaN    38\n",
        "1914-02-08           160          NaN    39\n",
        "1914-02-09           160          NaN    40\n",
        "1914-02-10           160          NaN    41\n",
        "1914-02-11           160          NaN    42\n",
        "1914-02-12           160          NaN    43\n",
        "1914-02-13           154          NaN    44\n",
        "1914-02-14           154          NaN    45\n",
        "1914-02-15           154          NaN    46\n",
        "1914-02-16           154          NaN    47\n",
        "1914-02-17           154          NaN    48\n",
        "1914-02-18           160          NaN    49\n",
        "1914-02-19           160          NaN    50\n",
        "1914-02-20           160          NaN    51\n",
        "1914-02-21           160          NaN    52\n",
        "1914-02-22           160          NaN    53\n",
        "1914-02-23           160          NaN    54\n",
        "1914-02-24           160          NaN    55\n",
        "1914-02-25           160          NaN    56\n",
        "1914-02-26           166          NaN    57\n",
        "1914-02-27           166          NaN    58\n",
        "1914-02-28           166          NaN    59\n",
        "1914-03-01           166          NaN    60\n",
        "                     ...          ...   ...\n",
        "\n",
        "[25202 rows x 3 columns]"
       ]
      }
     ],
     "prompt_number": 44
    },
    {
     "cell_type": "code",
     "collapsed": false,
     "input": [
      "LowFlowRegSeries = pd.Series(pd.rolling_mean(CompleteYeardf['RegionalFlow'], 7, 7),\n",
      "                             index = CompleteYeardf.index)"
     ],
     "language": "python",
     "metadata": {},
     "outputs": [],
     "prompt_number": 45
    },
    {
     "cell_type": "code",
     "collapsed": false,
     "input": [
      "LowFlowRegGrouped = LowFlowRegSeries.groupby(LowFlowRegSeries.index.year)"
     ],
     "language": "python",
     "metadata": {},
     "outputs": [],
     "prompt_number": 46
    },
    {
     "cell_type": "code",
     "collapsed": false,
     "input": [
      "Annual7DayLowReg = LowFlowRegGrouped.min()\n",
      "Annual7DayLowReg.head(),len(Annual7DayLowReg)"
     ],
     "language": "python",
     "metadata": {},
     "outputs": [
      {
       "metadata": {},
       "output_type": "pyout",
       "prompt_number": 47,
       "text": [
        "(1914    78.642857\n",
        "1915    26.900000\n",
        "1916    34.057143\n",
        "1917    30.471429\n",
        "1918    43.300000\n",
        "dtype: float64,\n",
        " 69)"
       ]
      }
     ],
     "prompt_number": 47
    },
    {
     "cell_type": "code",
     "collapsed": false,
     "input": [
      "PNonExceedanceList = []\n",
      "RankLowReg = pd.Series(sorted(Annual7DayLowReg))\n",
      "for rank in RankLowReg.index:\n",
      "    Pnex = (rank+1.)/(len(RankLowReg.index)+1.)\n",
      "    PNonExceedanceList.append(Pnex)\n"
     ],
     "language": "python",
     "metadata": {},
     "outputs": [],
     "prompt_number": 48
    },
    {
     "cell_type": "code",
     "collapsed": false,
     "input": [
      "_=np.linspace(10,100)\n",
      "(c,loc,scale) = genextreme.fit(Annual7DayLowReg)\n",
      "SevenQ10 = genextreme.ppf(0.1,c,loc,scale)\n",
      "plt.plot(_,genextreme.cdf(_,c,loc,scale))\n",
      "plt.plot(RankLowReg, PNonExceedanceList, 'r.')\n",
      "plt.plot(SevenQ10, 0.1, 'go')\n",
      "plt.xlabel('Flood Flow (m3/s)')\n",
      "plt.ylabel('Non-exceedance Probability')"
     ],
     "language": "python",
     "metadata": {},
     "outputs": [
      {
       "metadata": {},
       "output_type": "pyout",
       "prompt_number": 49,
       "text": [
        "<matplotlib.text.Text at 0x17de8cf8>"
       ]
      },
      {
       "metadata": {},
       "output_type": "display_data",
       "png": "[encoded data removed]",
       "text": [
        "<matplotlib.figure.Figure at 0x17733a20>"
       ]
      }
     ],
     "prompt_number": 49
    },
    {
     "cell_type": "markdown",
     "metadata": {},
     "source": [
      "Non-exceedance probability - There is an x% chance that the driest 7 days in any given year will not exceed the corresponding flow.\n",
      "\n",
      "One in ten years has a seven day period which is dryer than:"
     ]
    },
    {
     "cell_type": "code",
     "collapsed": false,
     "input": [
      "SevenQ10"
     ],
     "language": "python",
     "metadata": {},
     "outputs": [
      {
       "metadata": {},
       "output_type": "pyout",
       "prompt_number": 50,
       "text": [
        "26.343383258301131"
       ]
      }
     ],
     "prompt_number": 50
    },
    {
     "cell_type": "markdown",
     "metadata": {},
     "source": [
      "The 10th percentile low flow from the observations is:"
     ]
    },
    {
     "cell_type": "code",
     "collapsed": false,
     "input": [
      "olf = Annual7DayLowReg.quantile(.1) #olf observed low flow\n",
      "olf"
     ],
     "language": "python",
     "metadata": {},
     "outputs": [
      {
       "metadata": {},
       "output_type": "pyout",
       "prompt_number": 51,
       "text": [
        "26.897142857142857"
       ]
      }
     ],
     "prompt_number": 51
    },
    {
     "cell_type": "markdown",
     "metadata": {},
     "source": [
      "The model is underpredicting the 10 year low flows by: x%"
     ]
    },
    {
     "cell_type": "code",
     "collapsed": false,
     "input": [
      "(olf-SevenQ10)/olf*100"
     ],
     "language": "python",
     "metadata": {},
     "outputs": [
      {
       "metadata": {},
       "output_type": "pyout",
       "prompt_number": 52,
       "text": [
        "2.0588045421139163"
       ]
      }
     ],
     "prompt_number": 52
    },
    {
     "cell_type": "heading",
     "level": 1,
     "metadata": {},
     "source": [
      "The Hydrologic Year"
     ]
    },
    {
     "cell_type": "heading",
     "level": 1,
     "metadata": {},
     "source": [
      "Work in Progress"
     ]
    },
    {
     "cell_type": "markdown",
     "metadata": {},
     "source": [
      "Above; functional at a beta level\n",
      "Below; functional at an alpha level, limited utility."
     ]
    },
    {
     "cell_type": "markdown",
     "metadata": {},
     "source": [
      "The hydrologic year is not strictly defined.  According to Wikipedia the USGS defines it as Oct 1 - Sept 30.  The following will assign a day of the hydrologic year based on a user defined start day.  Subsequent steps will divide the hydrologic year into seasons.  The start of the hydrologic year must coincide with the the start of one of the seasons.  "
     ]
    },
    {
     "cell_type": "code",
     "collapsed": false,
     "input": [
      "#start year is not included in subsequent calculations but Python date() \n",
      "#requires a year as input, therefore any year will suffice\n",
      "startHydY = date(2011, 10, 1)"
     ],
     "language": "python",
     "metadata": {},
     "outputs": [],
     "prompt_number": 53
    },
    {
     "cell_type": "code",
     "collapsed": false,
     "input": [
      "dayofhydroyearList = []\n",
      "hydraulicDay = 0\n",
      "for dates in analysisdf.index:\n",
      "    datevar = date(dates.year, dates.month, dates.day)\n",
      "    if datevar >= date(dates.year, startHydY.month, startHydY.day\n",
      "                       ) and analysisdf.loc[dates, 'JDay'] <= 366:\n",
      "        hydraulicDay = dates.toordinal() - date(dates.year, startHydY.month, startHydY.day).toordinal() + 1\n",
      "    else:\n",
      "        hydraulicDay = dates.toordinal() - date(dates.year-1, startHydY.month,\n",
      "                                                startHydY.day).toordinal()+1\n",
      "    dayofhydroyearList.append(hydraulicDay)    "
     ],
     "language": "python",
     "metadata": {},
     "outputs": [],
     "prompt_number": 54
    },
    {
     "cell_type": "code",
     "collapsed": false,
     "input": [
      "dayHydYSeries = pd.Series(dayofhydroyearList, index=analysisdf.index)"
     ],
     "language": "python",
     "metadata": {},
     "outputs": [],
     "prompt_number": 55
    },
    {
     "cell_type": "code",
     "collapsed": false,
     "input": [
      "analysisdf['HDay'] = dayHydYSeries"
     ],
     "language": "python",
     "metadata": {},
     "outputs": [],
     "prompt_number": 56
    },
    {
     "cell_type": "heading",
     "level": 2,
     "metadata": {},
     "source": [
      "Hydraulic Seasons"
     ]
    },
    {
     "cell_type": "markdown",
     "metadata": {},
     "source": [
      "The hydrologic year can be divided up into multiple seasons which will depend on the project and region stations."
     ]
    },
    {
     "cell_type": "code",
     "collapsed": false,
     "input": [
      "season1end=175 #HDay"
     ],
     "language": "python",
     "metadata": {},
     "outputs": [],
     "prompt_number": 57
    },
    {
     "cell_type": "code",
     "collapsed": false,
     "input": [],
     "language": "python",
     "metadata": {},
     "outputs": [],
     "prompt_number": 57
    }
   ],
   "metadata": {}
  }
 ]
}