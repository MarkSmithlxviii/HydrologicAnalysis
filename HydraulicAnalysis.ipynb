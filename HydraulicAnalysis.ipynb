{
 "metadata": {
  "name": ""
 },
 "nbformat": 3,
 "nbformat_minor": 0,
 "worksheets": [
  {
   "cells": [
    {
     "cell_type": "heading",
     "level": 1,
     "metadata": {},
     "source": [
      "Hydraulic Data Analysis"
     ]
    },
    {
     "cell_type": "markdown",
     "metadata": {},
     "source": [
      "Import, analyse and compare flow data from a long term regional station and a short term project station.  The goal of the analysis will be to develop a long term synthetic stream flow string for the project site that can be used to determine the design stream flow statistics."
     ]
    },
    {
     "cell_type": "heading",
     "level": 2,
     "metadata": {},
     "source": [
      "Import Modules to be used"
     ]
    },
    {
     "cell_type": "code",
     "collapsed": false,
     "input": [
      "import pandas as pd\n",
      "import numpy as np\n",
      "import matplotlib.pyplot as plt\n",
      "import datetime\n",
      "from datetime import date\n",
      "import matplotlib.dates as mdates\n",
      "%matplotlib inline"
     ],
     "language": "python",
     "metadata": {},
     "outputs": [],
     "prompt_number": 1
    },
    {
     "cell_type": "heading",
     "level": 2,
     "metadata": {},
     "source": [
      "Read Flow Data From .csv"
     ]
    },
    {
     "cell_type": "markdown",
     "metadata": {},
     "source": [
      "Read the flow data from the regional station into a pandas data frame. The last three rows contain NaN for date values and the disclaimer."
     ]
    },
    {
     "cell_type": "code",
     "collapsed": false,
     "input": [
      "o8la001 = pd.read_csv(\"08LA001_Daily_Flow_ts.csv\", skiprows =[26521,26522,26523])"
     ],
     "language": "python",
     "metadata": {},
     "outputs": [],
     "prompt_number": 2
    },
    {
     "cell_type": "markdown",
     "metadata": {},
     "source": [
      "Conver to a pandas data frame, and have a look at the top and bottom of the data to see if there is any problems.  Use .describe() to see a summary of the data."
     ]
    },
    {
     "cell_type": "code",
     "collapsed": false,
     "input": [
      "regionaldf = pd.DataFrame(o8la001)\n",
      "regionaldf.head()"
     ],
     "language": "python",
     "metadata": {},
     "outputs": [
      {
       "html": [
        "<div style=\"max-height:1000px;max-width:1500px;overflow:auto;\">\n",
        "<table border=\"1\" class=\"dataframe\">\n",
        "  <thead>\n",
        "    <tr style=\"text-align: right;\">\n",
        "      <th></th>\n",
        "      <th>ID</th>\n",
        "      <th>PARAM</th>\n",
        "      <th>Date</th>\n",
        "      <th>Flow</th>\n",
        "      <th>SYM</th>\n",
        "    </tr>\n",
        "  </thead>\n",
        "  <tbody>\n",
        "    <tr>\n",
        "      <th>0</th>\n",
        "      <td> 08LA001</td>\n",
        "      <td> 1</td>\n",
        "      <td> 1914/01/01</td>\n",
        "      <td> 144</td>\n",
        "      <td> NaN</td>\n",
        "    </tr>\n",
        "    <tr>\n",
        "      <th>1</th>\n",
        "      <td> 08LA001</td>\n",
        "      <td> 1</td>\n",
        "      <td> 1914/01/02</td>\n",
        "      <td> 144</td>\n",
        "      <td> NaN</td>\n",
        "    </tr>\n",
        "    <tr>\n",
        "      <th>2</th>\n",
        "      <td> 08LA001</td>\n",
        "      <td> 1</td>\n",
        "      <td> 1914/01/03</td>\n",
        "      <td> 144</td>\n",
        "      <td> NaN</td>\n",
        "    </tr>\n",
        "    <tr>\n",
        "      <th>3</th>\n",
        "      <td> 08LA001</td>\n",
        "      <td> 1</td>\n",
        "      <td> 1914/01/04</td>\n",
        "      <td> 140</td>\n",
        "      <td> NaN</td>\n",
        "    </tr>\n",
        "    <tr>\n",
        "      <th>4</th>\n",
        "      <td> 08LA001</td>\n",
        "      <td> 1</td>\n",
        "      <td> 1914/01/05</td>\n",
        "      <td> 140</td>\n",
        "      <td> NaN</td>\n",
        "    </tr>\n",
        "  </tbody>\n",
        "</table>\n",
        "<p>5 rows \u00d7 5 columns</p>\n",
        "</div>"
       ],
       "metadata": {},
       "output_type": "pyout",
       "prompt_number": 4,
       "text": [
        "        ID  PARAM        Date  Flow  SYM\n",
        "0  08LA001      1  1914/01/01   144  NaN\n",
        "1  08LA001      1  1914/01/02   144  NaN\n",
        "2  08LA001      1  1914/01/03   144  NaN\n",
        "3  08LA001      1  1914/01/04   140  NaN\n",
        "4  08LA001      1  1914/01/05   140  NaN\n",
        "\n",
        "[5 rows x 5 columns]"
       ]
      }
     ],
     "prompt_number": 4
    },
    {
     "cell_type": "code",
     "collapsed": false,
     "input": [
      "regionaldf.tail()"
     ],
     "language": "python",
     "metadata": {},
     "outputs": [
      {
       "html": [
        "<div style=\"max-height:1000px;max-width:1500px;overflow:auto;\">\n",
        "<table border=\"1\" class=\"dataframe\">\n",
        "  <thead>\n",
        "    <tr style=\"text-align: right;\">\n",
        "      <th></th>\n",
        "      <th>ID</th>\n",
        "      <th>PARAM</th>\n",
        "      <th>Date</th>\n",
        "      <th>Flow</th>\n",
        "      <th>SYM</th>\n",
        "    </tr>\n",
        "  </thead>\n",
        "  <tbody>\n",
        "    <tr>\n",
        "      <th>26515</th>\n",
        "      <td> 08LA001</td>\n",
        "      <td> 1</td>\n",
        "      <td> 2010/12/27</td>\n",
        "      <td> 45.6</td>\n",
        "      <td> NaN</td>\n",
        "    </tr>\n",
        "    <tr>\n",
        "      <th>26516</th>\n",
        "      <td> 08LA001</td>\n",
        "      <td> 1</td>\n",
        "      <td> 2010/12/28</td>\n",
        "      <td> 45.2</td>\n",
        "      <td> NaN</td>\n",
        "    </tr>\n",
        "    <tr>\n",
        "      <th>26517</th>\n",
        "      <td> 08LA001</td>\n",
        "      <td> 1</td>\n",
        "      <td> 2010/12/29</td>\n",
        "      <td> 43.3</td>\n",
        "      <td> NaN</td>\n",
        "    </tr>\n",
        "    <tr>\n",
        "      <th>26518</th>\n",
        "      <td> 08LA001</td>\n",
        "      <td> 1</td>\n",
        "      <td> 2010/12/30</td>\n",
        "      <td> 41.1</td>\n",
        "      <td> NaN</td>\n",
        "    </tr>\n",
        "    <tr>\n",
        "      <th>26519</th>\n",
        "      <td> 08LA001</td>\n",
        "      <td> 1</td>\n",
        "      <td> 2010/12/31</td>\n",
        "      <td> 40.0</td>\n",
        "      <td>   B</td>\n",
        "    </tr>\n",
        "  </tbody>\n",
        "</table>\n",
        "<p>5 rows \u00d7 5 columns</p>\n",
        "</div>"
       ],
       "metadata": {},
       "output_type": "pyout",
       "prompt_number": 5,
       "text": [
        "            ID  PARAM        Date  Flow  SYM\n",
        "26515  08LA001      1  2010/12/27  45.6  NaN\n",
        "26516  08LA001      1  2010/12/28  45.2  NaN\n",
        "26517  08LA001      1  2010/12/29  43.3  NaN\n",
        "26518  08LA001      1  2010/12/30  41.1  NaN\n",
        "26519  08LA001      1  2010/12/31  40.0    B\n",
        "\n",
        "[5 rows x 5 columns]"
       ]
      }
     ],
     "prompt_number": 5
    },
    {
     "cell_type": "code",
     "collapsed": false,
     "input": [
      "regionaldf.describe()"
     ],
     "language": "python",
     "metadata": {},
     "outputs": [
      {
       "html": [
        "<div style=\"max-height:1000px;max-width:1500px;overflow:auto;\">\n",
        "<table border=\"1\" class=\"dataframe\">\n",
        "  <thead>\n",
        "    <tr style=\"text-align: right;\">\n",
        "      <th></th>\n",
        "      <th>PARAM</th>\n",
        "      <th>Flow</th>\n",
        "    </tr>\n",
        "  </thead>\n",
        "  <tbody>\n",
        "    <tr>\n",
        "      <th>count</th>\n",
        "      <td> 26520</td>\n",
        "      <td> 26520.000000</td>\n",
        "    </tr>\n",
        "    <tr>\n",
        "      <th>mean</th>\n",
        "      <td>     1</td>\n",
        "      <td>   223.072428</td>\n",
        "    </tr>\n",
        "    <tr>\n",
        "      <th>std</th>\n",
        "      <td>     0</td>\n",
        "      <td>   236.204823</td>\n",
        "    </tr>\n",
        "    <tr>\n",
        "      <th>min</th>\n",
        "      <td>     1</td>\n",
        "      <td>    19.500000</td>\n",
        "    </tr>\n",
        "    <tr>\n",
        "      <th>25%</th>\n",
        "      <td>     1</td>\n",
        "      <td>    53.000000</td>\n",
        "    </tr>\n",
        "    <tr>\n",
        "      <th>50%</th>\n",
        "      <td>     1</td>\n",
        "      <td>   118.000000</td>\n",
        "    </tr>\n",
        "    <tr>\n",
        "      <th>75%</th>\n",
        "      <td>     1</td>\n",
        "      <td>   309.000000</td>\n",
        "    </tr>\n",
        "    <tr>\n",
        "      <th>max</th>\n",
        "      <td>     1</td>\n",
        "      <td>  1460.000000</td>\n",
        "    </tr>\n",
        "  </tbody>\n",
        "</table>\n",
        "<p>8 rows \u00d7 2 columns</p>\n",
        "</div>"
       ],
       "metadata": {},
       "output_type": "pyout",
       "prompt_number": 6,
       "text": [
        "       PARAM          Flow\n",
        "count  26520  26520.000000\n",
        "mean       1    223.072428\n",
        "std        0    236.204823\n",
        "min        1     19.500000\n",
        "25%        1     53.000000\n",
        "50%        1    118.000000\n",
        "75%        1    309.000000\n",
        "max        1   1460.000000\n",
        "\n",
        "[8 rows x 2 columns]"
       ]
      }
     ],
     "prompt_number": 6
    },
    {
     "cell_type": "markdown",
     "metadata": {},
     "source": [
      "Convert the date column supplied from Water Survey of Canada into the data frame index."
     ]
    },
    {
     "cell_type": "code",
     "collapsed": false,
     "input": [
      "regionaldf.index = pd.to_datetime(regionaldf.pop('Date'))"
     ],
     "language": "python",
     "metadata": {},
     "outputs": [],
     "prompt_number": 7
    },
    {
     "cell_type": "markdown",
     "metadata": {},
     "source": [
      "Plot the discharge with respect to date."
     ]
    },
    {
     "cell_type": "code",
     "collapsed": false,
     "input": [
      "line, = plt.plot(regionaldf.index, regionaldf.Flow, linewidth = 1)\n",
      "plt.show()"
     ],
     "language": "python",
     "metadata": {},
     "outputs": [
      {
       "metadata": {},
       "output_type": "display_data",
       "png": "[encoded data removed]",
       "text": [
        "<matplotlib.figure.Figure at 0xc283ef0>"
       ]
      }
     ],
     "prompt_number": 8
    },
    {
     "cell_type": "markdown",
     "metadata": {},
     "source": [
      "Create a data frame with just the flow data.  (Semi colon suppresses the output.)"
     ]
    },
    {
     "cell_type": "code",
     "collapsed": false,
     "input": [
      "regionaldf.pop('ID');\n",
      "regionaldf.pop('PARAM');\n",
      "regionaldf.pop('SYM');"
     ],
     "language": "python",
     "metadata": {},
     "outputs": [],
     "prompt_number": 9
    },
    {
     "cell_type": "markdown",
     "metadata": {},
     "source": [
      "Import the project site and repeat the process"
     ]
    },
    {
     "cell_type": "code",
     "collapsed": false,
     "input": [
      "o8lb047 = pd.read_csv(\"08LB047_Daily_Flow_ts.csv\")"
     ],
     "language": "python",
     "metadata": {},
     "outputs": [],
     "prompt_number": 10
    },
    {
     "cell_type": "code",
     "collapsed": false,
     "input": [
      "o8lb047.tail()"
     ],
     "language": "python",
     "metadata": {},
     "outputs": [
      {
       "html": [
        "<div style=\"max-height:1000px;max-width:1500px;overflow:auto;\">\n",
        "<table border=\"1\" class=\"dataframe\">\n",
        "  <thead>\n",
        "    <tr style=\"text-align: right;\">\n",
        "      <th></th>\n",
        "      <th> ID</th>\n",
        "      <th>PARAM</th>\n",
        "      <th>Date</th>\n",
        "      <th>Flow</th>\n",
        "      <th>SYM</th>\n",
        "    </tr>\n",
        "  </thead>\n",
        "  <tbody>\n",
        "    <tr>\n",
        "      <th>1821</th>\n",
        "      <td> 08LB047</td>\n",
        "      <td> 1</td>\n",
        "      <td> 2010/12/27</td>\n",
        "      <td> 32.0</td>\n",
        "      <td> B</td>\n",
        "    </tr>\n",
        "    <tr>\n",
        "      <th>1822</th>\n",
        "      <td> 08LB047</td>\n",
        "      <td> 1</td>\n",
        "      <td> 2010/12/28</td>\n",
        "      <td> 31.8</td>\n",
        "      <td> B</td>\n",
        "    </tr>\n",
        "    <tr>\n",
        "      <th>1823</th>\n",
        "      <td> 08LB047</td>\n",
        "      <td> 1</td>\n",
        "      <td> 2010/12/29</td>\n",
        "      <td> 32.0</td>\n",
        "      <td> B</td>\n",
        "    </tr>\n",
        "    <tr>\n",
        "      <th>1824</th>\n",
        "      <td> 08LB047</td>\n",
        "      <td> 1</td>\n",
        "      <td> 2010/12/30</td>\n",
        "      <td> 31.8</td>\n",
        "      <td> B</td>\n",
        "    </tr>\n",
        "    <tr>\n",
        "      <th>1825</th>\n",
        "      <td> 08LB047</td>\n",
        "      <td> 1</td>\n",
        "      <td> 2010/12/31</td>\n",
        "      <td> 31.5</td>\n",
        "      <td> B</td>\n",
        "    </tr>\n",
        "  </tbody>\n",
        "</table>\n",
        "<p>5 rows \u00d7 5 columns</p>\n",
        "</div>"
       ],
       "metadata": {},
       "output_type": "pyout",
       "prompt_number": 11,
       "text": [
        "           ID  PARAM        Date  Flow SYM\n",
        "1821  08LB047      1  2010/12/27  32.0   B\n",
        "1822  08LB047      1  2010/12/28  31.8   B\n",
        "1823  08LB047      1  2010/12/29  32.0   B\n",
        "1824  08LB047      1  2010/12/30  31.8   B\n",
        "1825  08LB047      1  2010/12/31  31.5   B\n",
        "\n",
        "[5 rows x 5 columns]"
       ]
      }
     ],
     "prompt_number": 11
    },
    {
     "cell_type": "markdown",
     "metadata": {},
     "source": [
      "no need to skip any rows here as there is no errant text etc."
     ]
    },
    {
     "cell_type": "code",
     "collapsed": false,
     "input": [
      "projectdf = pd.DataFrame(o8lb047)\n",
      "projectdf.head()"
     ],
     "language": "python",
     "metadata": {},
     "outputs": [
      {
       "html": [
        "<div style=\"max-height:1000px;max-width:1500px;overflow:auto;\">\n",
        "<table border=\"1\" class=\"dataframe\">\n",
        "  <thead>\n",
        "    <tr style=\"text-align: right;\">\n",
        "      <th></th>\n",
        "      <th> ID</th>\n",
        "      <th>PARAM</th>\n",
        "      <th>Date</th>\n",
        "      <th>Flow</th>\n",
        "      <th>SYM</th>\n",
        "    </tr>\n",
        "  </thead>\n",
        "  <tbody>\n",
        "    <tr>\n",
        "      <th>0</th>\n",
        "      <td> 08LB047</td>\n",
        "      <td> 1</td>\n",
        "      <td> 2006/01/01</td>\n",
        "      <td> 75</td>\n",
        "      <td> B</td>\n",
        "    </tr>\n",
        "    <tr>\n",
        "      <th>1</th>\n",
        "      <td> 08LB047</td>\n",
        "      <td> 1</td>\n",
        "      <td> 2006/01/02</td>\n",
        "      <td> 72</td>\n",
        "      <td> B</td>\n",
        "    </tr>\n",
        "    <tr>\n",
        "      <th>2</th>\n",
        "      <td> 08LB047</td>\n",
        "      <td> 1</td>\n",
        "      <td> 2006/01/03</td>\n",
        "      <td> 69</td>\n",
        "      <td> B</td>\n",
        "    </tr>\n",
        "    <tr>\n",
        "      <th>3</th>\n",
        "      <td> 08LB047</td>\n",
        "      <td> 1</td>\n",
        "      <td> 2006/01/04</td>\n",
        "      <td> 67</td>\n",
        "      <td> B</td>\n",
        "    </tr>\n",
        "    <tr>\n",
        "      <th>4</th>\n",
        "      <td> 08LB047</td>\n",
        "      <td> 1</td>\n",
        "      <td> 2006/01/05</td>\n",
        "      <td> 66</td>\n",
        "      <td> B</td>\n",
        "    </tr>\n",
        "  </tbody>\n",
        "</table>\n",
        "<p>5 rows \u00d7 5 columns</p>\n",
        "</div>"
       ],
       "metadata": {},
       "output_type": "pyout",
       "prompt_number": 12,
       "text": [
        "        ID  PARAM        Date  Flow SYM\n",
        "0  08LB047      1  2006/01/01    75   B\n",
        "1  08LB047      1  2006/01/02    72   B\n",
        "2  08LB047      1  2006/01/03    69   B\n",
        "3  08LB047      1  2006/01/04    67   B\n",
        "4  08LB047      1  2006/01/05    66   B\n",
        "\n",
        "[5 rows x 5 columns]"
       ]
      }
     ],
     "prompt_number": 12
    },
    {
     "cell_type": "code",
     "collapsed": false,
     "input": [
      "projectdf.index = pd.to_datetime(o8lb047.pop('Date'))"
     ],
     "language": "python",
     "metadata": {},
     "outputs": [],
     "prompt_number": 13
    },
    {
     "cell_type": "code",
     "collapsed": false,
     "input": [
      "projectdf.pop(' ID');\n",
      "projectdf.pop('PARAM');\n",
      "projectdf.pop('SYM');"
     ],
     "language": "python",
     "metadata": {},
     "outputs": [],
     "prompt_number": 14
    },
    {
     "cell_type": "code",
     "collapsed": false,
     "input": [
      "line, = plt.plot(projectdf.index, projectdf.Flow, linewidth = 1)\n",
      "plt.show()"
     ],
     "language": "python",
     "metadata": {},
     "outputs": [
      {
       "metadata": {},
       "output_type": "display_data",
       "png": "[encoded data removed]",
       "text": [
        "<matplotlib.figure.Figure at 0x78ed630>"
       ]
      }
     ],
     "prompt_number": 16
    },
    {
     "cell_type": "markdown",
     "metadata": {},
     "source": [
      "Rename the two flow columns to something more meaningful"
     ]
    },
    {
     "cell_type": "code",
     "collapsed": false,
     "input": [
      "regionaldf = regionaldf.rename(columns={'Flow':'RegionalFlow'})\n",
      "projectdf = projectdf.rename(columns={'Flow':'ProjectFlow'})"
     ],
     "language": "python",
     "metadata": {},
     "outputs": [],
     "prompt_number": 17
    },
    {
     "cell_type": "markdown",
     "metadata": {},
     "source": [
      "Join regional and project flows into one data frame for further analysis.  The two original data frames are left as they may be used later in the analysis.  This should be reviewed when the notebook is more advanced.  .join(  ,how='outer') ensures that all data from both sources are in the new data frame.  Any missing data in either is back filled with NaN values."
     ]
    },
    {
     "cell_type": "code",
     "collapsed": false,
     "input": [
      "analysisdf=regionaldf.join(projectdf, how='outer')"
     ],
     "language": "python",
     "metadata": {},
     "outputs": [],
     "prompt_number": 18
    },
    {
     "cell_type": "code",
     "collapsed": false,
     "input": [
      "analysisdf.describe()"
     ],
     "language": "python",
     "metadata": {},
     "outputs": [
      {
       "html": [
        "<div style=\"max-height:1000px;max-width:1500px;overflow:auto;\">\n",
        "<table border=\"1\" class=\"dataframe\">\n",
        "  <thead>\n",
        "    <tr style=\"text-align: right;\">\n",
        "      <th></th>\n",
        "      <th>RegionalFlow</th>\n",
        "      <th>ProjectFlow</th>\n",
        "    </tr>\n",
        "  </thead>\n",
        "  <tbody>\n",
        "    <tr>\n",
        "      <th>count</th>\n",
        "      <td> 26520.000000</td>\n",
        "      <td> 1826.000000</td>\n",
        "    </tr>\n",
        "    <tr>\n",
        "      <th>mean</th>\n",
        "      <td>   223.072428</td>\n",
        "      <td>  150.703286</td>\n",
        "    </tr>\n",
        "    <tr>\n",
        "      <th>std</th>\n",
        "      <td>   236.204823</td>\n",
        "      <td>  149.415103</td>\n",
        "    </tr>\n",
        "    <tr>\n",
        "      <th>min</th>\n",
        "      <td>    19.500000</td>\n",
        "      <td>   20.000000</td>\n",
        "    </tr>\n",
        "    <tr>\n",
        "      <th>25%</th>\n",
        "      <td>    53.000000</td>\n",
        "      <td>   40.025000</td>\n",
        "    </tr>\n",
        "    <tr>\n",
        "      <th>50%</th>\n",
        "      <td>   118.000000</td>\n",
        "      <td>   83.900000</td>\n",
        "    </tr>\n",
        "    <tr>\n",
        "      <th>75%</th>\n",
        "      <td>   309.000000</td>\n",
        "      <td>  221.500000</td>\n",
        "    </tr>\n",
        "    <tr>\n",
        "      <th>max</th>\n",
        "      <td>  1460.000000</td>\n",
        "      <td>  843.000000</td>\n",
        "    </tr>\n",
        "  </tbody>\n",
        "</table>\n",
        "<p>8 rows \u00d7 2 columns</p>\n",
        "</div>"
       ],
       "metadata": {},
       "output_type": "pyout",
       "prompt_number": 19,
       "text": [
        "       RegionalFlow  ProjectFlow\n",
        "count  26520.000000  1826.000000\n",
        "mean     223.072428   150.703286\n",
        "std      236.204823   149.415103\n",
        "min       19.500000    20.000000\n",
        "25%       53.000000    40.025000\n",
        "50%      118.000000    83.900000\n",
        "75%      309.000000   221.500000\n",
        "max     1460.000000   843.000000\n",
        "\n",
        "[8 rows x 2 columns]"
       ]
      }
     ],
     "prompt_number": 19
    },
    {
     "cell_type": "markdown",
     "metadata": {},
     "source": [
      "Plot a basic line graph to view the two data sets"
     ]
    },
    {
     "cell_type": "code",
     "collapsed": false,
     "input": [
      "plt.figure(); analysisdf.plot()"
     ],
     "language": "python",
     "metadata": {},
     "outputs": [
      {
       "metadata": {},
       "output_type": "pyout",
       "prompt_number": 20,
       "text": [
        "<matplotlib.axes.AxesSubplot at 0xc1bdb00>"
       ]
      },
      {
       "metadata": {},
       "output_type": "display_data",
       "text": [
        "<matplotlib.figure.Figure at 0xc7d0358>"
       ]
      },
      {
       "metadata": {},
       "output_type": "display_data",
       "png": "[encoded data removed]",
       "text": [
        "<matplotlib.figure.Figure at 0xc7cd630>"
       ]
      }
     ],
     "prompt_number": 20
    },
    {
     "cell_type": "markdown",
     "metadata": {},
     "source": [
      "Generate a series for the day of the year, ie Jan 1 is day 1, Feb 1 is day 32 and December 31 is day 365 or 366.  Then turn the list object into a pandas series, and incorporate it inot the analysis data frame."
     ]
    },
    {
     "cell_type": "code",
     "collapsed": false,
     "input": [
      "dayofyearlist = []\n",
      "for dates in analysisdf.index:\n",
      "    dayofyear=dates.toordinal() - date(dates.year, 1, 1).toordinal()+1\n",
      "    dayofyearlist.append(dayofyear)"
     ],
     "language": "python",
     "metadata": {},
     "outputs": [],
     "prompt_number": 22
    },
    {
     "cell_type": "code",
     "collapsed": false,
     "input": [
      "dayofyearSeries = pd.Series(dayofyearlist, index = analysisdf.index)"
     ],
     "language": "python",
     "metadata": {},
     "outputs": [],
     "prompt_number": 25
    },
    {
     "cell_type": "code",
     "collapsed": false,
     "input": [
      "analysisdf['JDay'] = dayofyearSeries"
     ],
     "language": "python",
     "metadata": {},
     "outputs": [],
     "prompt_number": 26
    },
    {
     "cell_type": "heading",
     "level": 2,
     "metadata": {},
     "source": [
      "The Hydrologic Year"
     ]
    },
    {
     "cell_type": "markdown",
     "metadata": {},
     "source": [
      "The hydrologic year is not strictly defined.  According to Wikipedia the USGS defines it as Oct 1 - Sept 30.  The following will assign a day of the hydrologic year based on a user defined start day.  "
     ]
    },
    {
     "cell_type": "code",
     "collapsed": false,
     "input": [
      "dayofhydroyearList = []\n",
      "for dates in analysisdf.index:"
     ],
     "language": "python",
     "metadata": {},
     "outputs": []
    }
   ],
   "metadata": {}
  }
 ]
}