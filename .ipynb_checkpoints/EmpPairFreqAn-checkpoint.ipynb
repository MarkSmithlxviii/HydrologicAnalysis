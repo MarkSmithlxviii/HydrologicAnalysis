{
 "metadata": {
  "name": ""
 },
 "nbformat": 3,
 "nbformat_minor": 0,
 "worksheets": [
  {
   "cells": [
    {
     "cell_type": "heading",
     "level": 1,
     "metadata": {},
     "source": [
      "Emperical Frequency Paired Analysis"
     ]
    },
    {
     "cell_type": "heading",
     "level": 2,
     "metadata": {},
     "source": [
      "Objective"
     ]
    },
    {
     "cell_type": "markdown",
     "metadata": {},
     "source": [
      "Generate a synthetic long term flow series.  "
     ]
    },
    {
     "cell_type": "heading",
     "level": 2,
     "metadata": {},
     "source": [
      "Introduction"
     ]
    },
    {
     "cell_type": "markdown",
     "metadata": {},
     "source": [
      "Ideally a site would have 15 - 20 years of continious flow data prior to making any design decisions however this is rarely the case.  This notebook steps through the process of extending a short duration time series from the site of interest (Project) by an Emperical Frequency Pairing Analysis with a long term site record (Regional).  A portion of the two records must be concurrent."
     ]
    },
    {
     "cell_type": "heading",
     "level": 2,
     "metadata": {},
     "source": [
      "Import Modules to be used"
     ]
    },
    {
     "cell_type": "code",
     "collapsed": false,
     "input": [
      "import pandas as pd\n",
      "import numpy as np\n",
      "import matplotlib.pyplot as plt\n",
      "import datetime\n",
      "from datetime import date\n",
      "import matplotlib.dates as mdates\n",
      "%matplotlib inline"
     ],
     "language": "python",
     "metadata": {},
     "outputs": [],
     "prompt_number": 1
    },
    {
     "cell_type": "heading",
     "level": 2,
     "metadata": {},
     "source": [
      "Read Flow Data From csv"
     ]
    },
    {
     "cell_type": "markdown",
     "metadata": {},
     "source": [
      "Read the flow data from the regional station into a pandas data frame. The last three rows contain NaN for date values and the disclaimer.\n",
      "\n",
      "Negative flows are not real typically -ve numbers are used to demarcate the ends of a continious string of data.  The import process will convert -ve numbers to the default NaN placeholder for missing data."
     ]
    },
    {
     "cell_type": "code",
     "collapsed": false,
     "input": [
      "o8la001 = pd.read_csv(\"08LA001_Daily_Flow_ts.csv\", skiprows =[26521,26522,26523])"
     ],
     "language": "python",
     "metadata": {},
     "outputs": [],
     "prompt_number": 2
    },
    {
     "cell_type": "code",
     "collapsed": false,
     "input": [
      "regional = pd.DataFrame(o8la001)"
     ],
     "language": "python",
     "metadata": {},
     "outputs": [],
     "prompt_number": 3
    },
    {
     "cell_type": "code",
     "collapsed": false,
     "input": [
      "regional.head()"
     ],
     "language": "python",
     "metadata": {},
     "outputs": [
      {
       "html": [
        "<div style=\"max-height:1000px;max-width:1500px;overflow:auto;\">\n",
        "<table border=\"1\" class=\"dataframe\">\n",
        "  <thead>\n",
        "    <tr style=\"text-align: right;\">\n",
        "      <th></th>\n",
        "      <th>ID</th>\n",
        "      <th>PARAM</th>\n",
        "      <th>Date</th>\n",
        "      <th>Flow</th>\n",
        "      <th>SYM</th>\n",
        "    </tr>\n",
        "  </thead>\n",
        "  <tbody>\n",
        "    <tr>\n",
        "      <th>0</th>\n",
        "      <td> 08LA001</td>\n",
        "      <td> 1</td>\n",
        "      <td> 1914/01/01</td>\n",
        "      <td> 144</td>\n",
        "      <td> NaN</td>\n",
        "    </tr>\n",
        "    <tr>\n",
        "      <th>1</th>\n",
        "      <td> 08LA001</td>\n",
        "      <td> 1</td>\n",
        "      <td> 1914/01/02</td>\n",
        "      <td> 144</td>\n",
        "      <td> NaN</td>\n",
        "    </tr>\n",
        "    <tr>\n",
        "      <th>2</th>\n",
        "      <td> 08LA001</td>\n",
        "      <td> 1</td>\n",
        "      <td> 1914/01/03</td>\n",
        "      <td> 144</td>\n",
        "      <td> NaN</td>\n",
        "    </tr>\n",
        "    <tr>\n",
        "      <th>3</th>\n",
        "      <td> 08LA001</td>\n",
        "      <td> 1</td>\n",
        "      <td> 1914/01/04</td>\n",
        "      <td> 140</td>\n",
        "      <td> NaN</td>\n",
        "    </tr>\n",
        "    <tr>\n",
        "      <th>4</th>\n",
        "      <td> 08LA001</td>\n",
        "      <td> 1</td>\n",
        "      <td> 1914/01/05</td>\n",
        "      <td> 140</td>\n",
        "      <td> NaN</td>\n",
        "    </tr>\n",
        "  </tbody>\n",
        "</table>\n",
        "<p>5 rows \u00d7 5 columns</p>\n",
        "</div>"
       ],
       "metadata": {},
       "output_type": "pyout",
       "prompt_number": 4,
       "text": [
        "        ID  PARAM        Date  Flow  SYM\n",
        "0  08LA001      1  1914/01/01   144  NaN\n",
        "1  08LA001      1  1914/01/02   144  NaN\n",
        "2  08LA001      1  1914/01/03   144  NaN\n",
        "3  08LA001      1  1914/01/04   140  NaN\n",
        "4  08LA001      1  1914/01/05   140  NaN\n",
        "\n",
        "[5 rows x 5 columns]"
       ]
      }
     ],
     "prompt_number": 4
    },
    {
     "cell_type": "code",
     "collapsed": false,
     "input": [
      "regional.tail()"
     ],
     "language": "python",
     "metadata": {},
     "outputs": [
      {
       "html": [
        "<div style=\"max-height:1000px;max-width:1500px;overflow:auto;\">\n",
        "<table border=\"1\" class=\"dataframe\">\n",
        "  <thead>\n",
        "    <tr style=\"text-align: right;\">\n",
        "      <th></th>\n",
        "      <th>ID</th>\n",
        "      <th>PARAM</th>\n",
        "      <th>Date</th>\n",
        "      <th>Flow</th>\n",
        "      <th>SYM</th>\n",
        "    </tr>\n",
        "  </thead>\n",
        "  <tbody>\n",
        "    <tr>\n",
        "      <th>26515</th>\n",
        "      <td> 08LA001</td>\n",
        "      <td> 1</td>\n",
        "      <td> 2010/12/27</td>\n",
        "      <td> 45.6</td>\n",
        "      <td> NaN</td>\n",
        "    </tr>\n",
        "    <tr>\n",
        "      <th>26516</th>\n",
        "      <td> 08LA001</td>\n",
        "      <td> 1</td>\n",
        "      <td> 2010/12/28</td>\n",
        "      <td> 45.2</td>\n",
        "      <td> NaN</td>\n",
        "    </tr>\n",
        "    <tr>\n",
        "      <th>26517</th>\n",
        "      <td> 08LA001</td>\n",
        "      <td> 1</td>\n",
        "      <td> 2010/12/29</td>\n",
        "      <td> 43.3</td>\n",
        "      <td> NaN</td>\n",
        "    </tr>\n",
        "    <tr>\n",
        "      <th>26518</th>\n",
        "      <td> 08LA001</td>\n",
        "      <td> 1</td>\n",
        "      <td> 2010/12/30</td>\n",
        "      <td> 41.1</td>\n",
        "      <td> NaN</td>\n",
        "    </tr>\n",
        "    <tr>\n",
        "      <th>26519</th>\n",
        "      <td> 08LA001</td>\n",
        "      <td> 1</td>\n",
        "      <td> 2010/12/31</td>\n",
        "      <td> 40.0</td>\n",
        "      <td>   B</td>\n",
        "    </tr>\n",
        "  </tbody>\n",
        "</table>\n",
        "<p>5 rows \u00d7 5 columns</p>\n",
        "</div>"
       ],
       "metadata": {},
       "output_type": "pyout",
       "prompt_number": 5,
       "text": [
        "            ID  PARAM        Date  Flow  SYM\n",
        "26515  08LA001      1  2010/12/27  45.6  NaN\n",
        "26516  08LA001      1  2010/12/28  45.2  NaN\n",
        "26517  08LA001      1  2010/12/29  43.3  NaN\n",
        "26518  08LA001      1  2010/12/30  41.1  NaN\n",
        "26519  08LA001      1  2010/12/31  40.0    B\n",
        "\n",
        "[5 rows x 5 columns]"
       ]
      }
     ],
     "prompt_number": 5
    },
    {
     "cell_type": "code",
     "collapsed": false,
     "input": [],
     "language": "python",
     "metadata": {},
     "outputs": [],
     "prompt_number": 5
    },
    {
     "cell_type": "code",
     "collapsed": false,
     "input": [
      "regional.describe()"
     ],
     "language": "python",
     "metadata": {},
     "outputs": [
      {
       "html": [
        "<div style=\"max-height:1000px;max-width:1500px;overflow:auto;\">\n",
        "<table border=\"1\" class=\"dataframe\">\n",
        "  <thead>\n",
        "    <tr style=\"text-align: right;\">\n",
        "      <th></th>\n",
        "      <th>PARAM</th>\n",
        "      <th>Flow</th>\n",
        "    </tr>\n",
        "  </thead>\n",
        "  <tbody>\n",
        "    <tr>\n",
        "      <th>count</th>\n",
        "      <td> 26520</td>\n",
        "      <td> 26520.000000</td>\n",
        "    </tr>\n",
        "    <tr>\n",
        "      <th>mean</th>\n",
        "      <td>     1</td>\n",
        "      <td>   223.072428</td>\n",
        "    </tr>\n",
        "    <tr>\n",
        "      <th>std</th>\n",
        "      <td>     0</td>\n",
        "      <td>   236.204823</td>\n",
        "    </tr>\n",
        "    <tr>\n",
        "      <th>min</th>\n",
        "      <td>     1</td>\n",
        "      <td>    19.500000</td>\n",
        "    </tr>\n",
        "    <tr>\n",
        "      <th>25%</th>\n",
        "      <td>     1</td>\n",
        "      <td>    53.000000</td>\n",
        "    </tr>\n",
        "    <tr>\n",
        "      <th>50%</th>\n",
        "      <td>     1</td>\n",
        "      <td>   118.000000</td>\n",
        "    </tr>\n",
        "    <tr>\n",
        "      <th>75%</th>\n",
        "      <td>     1</td>\n",
        "      <td>   309.000000</td>\n",
        "    </tr>\n",
        "    <tr>\n",
        "      <th>max</th>\n",
        "      <td>     1</td>\n",
        "      <td>  1460.000000</td>\n",
        "    </tr>\n",
        "  </tbody>\n",
        "</table>\n",
        "<p>8 rows \u00d7 2 columns</p>\n",
        "</div>"
       ],
       "metadata": {},
       "output_type": "pyout",
       "prompt_number": 6,
       "text": [
        "       PARAM          Flow\n",
        "count  26520  26520.000000\n",
        "mean       1    223.072428\n",
        "std        0    236.204823\n",
        "min        1     19.500000\n",
        "25%        1     53.000000\n",
        "50%        1    118.000000\n",
        "75%        1    309.000000\n",
        "max        1   1460.000000\n",
        "\n",
        "[8 rows x 2 columns]"
       ]
      }
     ],
     "prompt_number": 6
    },
    {
     "cell_type": "code",
     "collapsed": false,
     "input": [
      "regional.index = pd.to_datetime(regional.pop('Date'))"
     ],
     "language": "python",
     "metadata": {},
     "outputs": [],
     "prompt_number": 7
    },
    {
     "cell_type": "code",
     "collapsed": false,
     "input": [
      "line, = plt.plot(regional.index, regional.Flow, linewidth = 1)\n",
      "plt.show()"
     ],
     "language": "python",
     "metadata": {},
     "outputs": [
      {
       "metadata": {},
       "output_type": "display_data",
       "png": "[encoded data removed]",
       "text": [
        "<matplotlib.figure.Figure at 0x7a22630>"
       ]
      }
     ],
     "prompt_number": 8
    },
    {
     "cell_type": "code",
     "collapsed": false,
     "input": [
      "regional.index"
     ],
     "language": "python",
     "metadata": {},
     "outputs": [
      {
       "metadata": {},
       "output_type": "pyout",
       "prompt_number": 9,
       "text": [
        "<class 'pandas.tseries.index.DatetimeIndex'>\n",
        "[1914-01-01, ..., 2010-12-31]\n",
        "Length: 26520, Freq: None, Timezone: None"
       ]
      }
     ],
     "prompt_number": 9
    },
    {
     "cell_type": "code",
     "collapsed": false,
     "input": [
      "plt"
     ],
     "language": "python",
     "metadata": {},
     "outputs": [
      {
       "metadata": {},
       "output_type": "pyout",
       "prompt_number": 10,
       "text": [
        "<module 'matplotlib.pyplot' from 'C:\\Anaconda\\lib\\site-packages\\matplotlib\\pyplot.pyc'>"
       ]
      }
     ],
     "prompt_number": 10
    },
    {
     "cell_type": "code",
     "collapsed": false,
     "input": [
      "regionalflowdf = regional.loc[:,['Flow']]"
     ],
     "language": "python",
     "metadata": {},
     "outputs": [],
     "prompt_number": 11
    },
    {
     "cell_type": "code",
     "collapsed": false,
     "input": [
      "regionalflowdf.describe()"
     ],
     "language": "python",
     "metadata": {},
     "outputs": [
      {
       "html": [
        "<div style=\"max-height:1000px;max-width:1500px;overflow:auto;\">\n",
        "<table border=\"1\" class=\"dataframe\">\n",
        "  <thead>\n",
        "    <tr style=\"text-align: right;\">\n",
        "      <th></th>\n",
        "      <th>Flow</th>\n",
        "    </tr>\n",
        "  </thead>\n",
        "  <tbody>\n",
        "    <tr>\n",
        "      <th>count</th>\n",
        "      <td> 26520.000000</td>\n",
        "    </tr>\n",
        "    <tr>\n",
        "      <th>mean</th>\n",
        "      <td>   223.072428</td>\n",
        "    </tr>\n",
        "    <tr>\n",
        "      <th>std</th>\n",
        "      <td>   236.204823</td>\n",
        "    </tr>\n",
        "    <tr>\n",
        "      <th>min</th>\n",
        "      <td>    19.500000</td>\n",
        "    </tr>\n",
        "    <tr>\n",
        "      <th>25%</th>\n",
        "      <td>    53.000000</td>\n",
        "    </tr>\n",
        "    <tr>\n",
        "      <th>50%</th>\n",
        "      <td>   118.000000</td>\n",
        "    </tr>\n",
        "    <tr>\n",
        "      <th>75%</th>\n",
        "      <td>   309.000000</td>\n",
        "    </tr>\n",
        "    <tr>\n",
        "      <th>max</th>\n",
        "      <td>  1460.000000</td>\n",
        "    </tr>\n",
        "  </tbody>\n",
        "</table>\n",
        "<p>8 rows \u00d7 1 columns</p>\n",
        "</div>"
       ],
       "metadata": {},
       "output_type": "pyout",
       "prompt_number": 12,
       "text": [
        "               Flow\n",
        "count  26520.000000\n",
        "mean     223.072428\n",
        "std      236.204823\n",
        "min       19.500000\n",
        "25%       53.000000\n",
        "50%      118.000000\n",
        "75%      309.000000\n",
        "max     1460.000000\n",
        "\n",
        "[8 rows x 1 columns]"
       ]
      }
     ],
     "prompt_number": 12
    },
    {
     "cell_type": "code",
     "collapsed": false,
     "input": [
      "o8lb047 = pd.read_csv(\"08LB047_Daily_Flow_ts.csv\")"
     ],
     "language": "python",
     "metadata": {},
     "outputs": [],
     "prompt_number": 13
    },
    {
     "cell_type": "code",
     "collapsed": false,
     "input": [
      "o8lb047.tail()"
     ],
     "language": "python",
     "metadata": {},
     "outputs": [
      {
       "html": [
        "<div style=\"max-height:1000px;max-width:1500px;overflow:auto;\">\n",
        "<table border=\"1\" class=\"dataframe\">\n",
        "  <thead>\n",
        "    <tr style=\"text-align: right;\">\n",
        "      <th></th>\n",
        "      <th> ID</th>\n",
        "      <th>PARAM</th>\n",
        "      <th>Date</th>\n",
        "      <th>Flow</th>\n",
        "      <th>SYM</th>\n",
        "    </tr>\n",
        "  </thead>\n",
        "  <tbody>\n",
        "    <tr>\n",
        "      <th>1821</th>\n",
        "      <td> 08LB047</td>\n",
        "      <td> 1</td>\n",
        "      <td> 2010/12/27</td>\n",
        "      <td> 32.0</td>\n",
        "      <td> B</td>\n",
        "    </tr>\n",
        "    <tr>\n",
        "      <th>1822</th>\n",
        "      <td> 08LB047</td>\n",
        "      <td> 1</td>\n",
        "      <td> 2010/12/28</td>\n",
        "      <td> 31.8</td>\n",
        "      <td> B</td>\n",
        "    </tr>\n",
        "    <tr>\n",
        "      <th>1823</th>\n",
        "      <td> 08LB047</td>\n",
        "      <td> 1</td>\n",
        "      <td> 2010/12/29</td>\n",
        "      <td> 32.0</td>\n",
        "      <td> B</td>\n",
        "    </tr>\n",
        "    <tr>\n",
        "      <th>1824</th>\n",
        "      <td> 08LB047</td>\n",
        "      <td> 1</td>\n",
        "      <td> 2010/12/30</td>\n",
        "      <td> 31.8</td>\n",
        "      <td> B</td>\n",
        "    </tr>\n",
        "    <tr>\n",
        "      <th>1825</th>\n",
        "      <td> 08LB047</td>\n",
        "      <td> 1</td>\n",
        "      <td> 2010/12/31</td>\n",
        "      <td> 31.5</td>\n",
        "      <td> B</td>\n",
        "    </tr>\n",
        "  </tbody>\n",
        "</table>\n",
        "<p>5 rows \u00d7 5 columns</p>\n",
        "</div>"
       ],
       "metadata": {},
       "output_type": "pyout",
       "prompt_number": 14,
       "text": [
        "           ID  PARAM        Date  Flow SYM\n",
        "1821  08LB047      1  2010/12/27  32.0   B\n",
        "1822  08LB047      1  2010/12/28  31.8   B\n",
        "1823  08LB047      1  2010/12/29  32.0   B\n",
        "1824  08LB047      1  2010/12/30  31.8   B\n",
        "1825  08LB047      1  2010/12/31  31.5   B\n",
        "\n",
        "[5 rows x 5 columns]"
       ]
      }
     ],
     "prompt_number": 14
    },
    {
     "cell_type": "code",
     "collapsed": false,
     "input": [
      "o8lb047.index = pd.to_datetime(o8lb047.pop('Date'))"
     ],
     "language": "python",
     "metadata": {},
     "outputs": [],
     "prompt_number": 15
    },
    {
     "cell_type": "code",
     "collapsed": false,
     "input": [
      "siteflowdf=o8lb047.loc[:,['Flow']]"
     ],
     "language": "python",
     "metadata": {},
     "outputs": [],
     "prompt_number": 16
    },
    {
     "cell_type": "code",
     "collapsed": false,
     "input": [
      "siteflowdf.describe()"
     ],
     "language": "python",
     "metadata": {},
     "outputs": [
      {
       "html": [
        "<div style=\"max-height:1000px;max-width:1500px;overflow:auto;\">\n",
        "<table border=\"1\" class=\"dataframe\">\n",
        "  <thead>\n",
        "    <tr style=\"text-align: right;\">\n",
        "      <th></th>\n",
        "      <th>Flow</th>\n",
        "    </tr>\n",
        "  </thead>\n",
        "  <tbody>\n",
        "    <tr>\n",
        "      <th>count</th>\n",
        "      <td> 1826.000000</td>\n",
        "    </tr>\n",
        "    <tr>\n",
        "      <th>mean</th>\n",
        "      <td>  150.703286</td>\n",
        "    </tr>\n",
        "    <tr>\n",
        "      <th>std</th>\n",
        "      <td>  149.415103</td>\n",
        "    </tr>\n",
        "    <tr>\n",
        "      <th>min</th>\n",
        "      <td>   20.000000</td>\n",
        "    </tr>\n",
        "    <tr>\n",
        "      <th>25%</th>\n",
        "      <td>   40.025000</td>\n",
        "    </tr>\n",
        "    <tr>\n",
        "      <th>50%</th>\n",
        "      <td>   83.900000</td>\n",
        "    </tr>\n",
        "    <tr>\n",
        "      <th>75%</th>\n",
        "      <td>  221.500000</td>\n",
        "    </tr>\n",
        "    <tr>\n",
        "      <th>max</th>\n",
        "      <td>  843.000000</td>\n",
        "    </tr>\n",
        "  </tbody>\n",
        "</table>\n",
        "<p>8 rows \u00d7 1 columns</p>\n",
        "</div>"
       ],
       "metadata": {},
       "output_type": "pyout",
       "prompt_number": 17,
       "text": [
        "              Flow\n",
        "count  1826.000000\n",
        "mean    150.703286\n",
        "std     149.415103\n",
        "min      20.000000\n",
        "25%      40.025000\n",
        "50%      83.900000\n",
        "75%     221.500000\n",
        "max     843.000000\n",
        "\n",
        "[8 rows x 1 columns]"
       ]
      }
     ],
     "prompt_number": 17
    },
    {
     "cell_type": "code",
     "collapsed": false,
     "input": [
      "line, = plt.plot(siteflowdf.index, siteflowdf.Flow, linewidth = 1)\n",
      "plt.show()"
     ],
     "language": "python",
     "metadata": {},
     "outputs": [
      {
       "metadata": {},
       "output_type": "display_data",
       "png": "[encoded data removed]",
       "text": [
        "<matplotlib.figure.Figure at 0xc2b4c88>"
       ]
      }
     ],
     "prompt_number": 18
    },
    {
     "cell_type": "markdown",
     "metadata": {},
     "source": [
      "Rename the column labels"
     ]
    },
    {
     "cell_type": "code",
     "collapsed": false,
     "input": [
      "regionalflowdf=regionalflowdf.rename(columns={'Flow':'RegionalFlow'})\n",
      "siteflowdf=siteflowdf.rename(columns={'Flow':'SiteFlow'})"
     ],
     "language": "python",
     "metadata": {},
     "outputs": [],
     "prompt_number": 19
    },
    {
     "cell_type": "code",
     "collapsed": false,
     "input": [
      "regionalflowdf.head()"
     ],
     "language": "python",
     "metadata": {},
     "outputs": [
      {
       "html": [
        "<div style=\"max-height:1000px;max-width:1500px;overflow:auto;\">\n",
        "<table border=\"1\" class=\"dataframe\">\n",
        "  <thead>\n",
        "    <tr style=\"text-align: right;\">\n",
        "      <th></th>\n",
        "      <th>RegionalFlow</th>\n",
        "    </tr>\n",
        "    <tr>\n",
        "      <th>Date</th>\n",
        "      <th></th>\n",
        "    </tr>\n",
        "  </thead>\n",
        "  <tbody>\n",
        "    <tr>\n",
        "      <th>1914-01-01</th>\n",
        "      <td> 144</td>\n",
        "    </tr>\n",
        "    <tr>\n",
        "      <th>1914-01-02</th>\n",
        "      <td> 144</td>\n",
        "    </tr>\n",
        "    <tr>\n",
        "      <th>1914-01-03</th>\n",
        "      <td> 144</td>\n",
        "    </tr>\n",
        "    <tr>\n",
        "      <th>1914-01-04</th>\n",
        "      <td> 140</td>\n",
        "    </tr>\n",
        "    <tr>\n",
        "      <th>1914-01-05</th>\n",
        "      <td> 140</td>\n",
        "    </tr>\n",
        "  </tbody>\n",
        "</table>\n",
        "<p>5 rows \u00d7 1 columns</p>\n",
        "</div>"
       ],
       "metadata": {},
       "output_type": "pyout",
       "prompt_number": 20,
       "text": [
        "            RegionalFlow\n",
        "Date                    \n",
        "1914-01-01           144\n",
        "1914-01-02           144\n",
        "1914-01-03           144\n",
        "1914-01-04           140\n",
        "1914-01-05           140\n",
        "\n",
        "[5 rows x 1 columns]"
       ]
      }
     ],
     "prompt_number": 20
    },
    {
     "cell_type": "code",
     "collapsed": false,
     "input": [
      "analysisdf=regionalflowdf.join(siteflowdf, how='outer')"
     ],
     "language": "python",
     "metadata": {},
     "outputs": [],
     "prompt_number": 21
    },
    {
     "cell_type": "code",
     "collapsed": false,
     "input": [
      "analysisdf.describe()"
     ],
     "language": "python",
     "metadata": {},
     "outputs": [
      {
       "html": [
        "<div style=\"max-height:1000px;max-width:1500px;overflow:auto;\">\n",
        "<table border=\"1\" class=\"dataframe\">\n",
        "  <thead>\n",
        "    <tr style=\"text-align: right;\">\n",
        "      <th></th>\n",
        "      <th>RegionalFlow</th>\n",
        "      <th>SiteFlow</th>\n",
        "    </tr>\n",
        "  </thead>\n",
        "  <tbody>\n",
        "    <tr>\n",
        "      <th>count</th>\n",
        "      <td> 26520.000000</td>\n",
        "      <td> 1826.000000</td>\n",
        "    </tr>\n",
        "    <tr>\n",
        "      <th>mean</th>\n",
        "      <td>   223.072428</td>\n",
        "      <td>  150.703286</td>\n",
        "    </tr>\n",
        "    <tr>\n",
        "      <th>std</th>\n",
        "      <td>   236.204823</td>\n",
        "      <td>  149.415103</td>\n",
        "    </tr>\n",
        "    <tr>\n",
        "      <th>min</th>\n",
        "      <td>    19.500000</td>\n",
        "      <td>   20.000000</td>\n",
        "    </tr>\n",
        "    <tr>\n",
        "      <th>25%</th>\n",
        "      <td>    53.000000</td>\n",
        "      <td>   40.025000</td>\n",
        "    </tr>\n",
        "    <tr>\n",
        "      <th>50%</th>\n",
        "      <td>   118.000000</td>\n",
        "      <td>   83.900000</td>\n",
        "    </tr>\n",
        "    <tr>\n",
        "      <th>75%</th>\n",
        "      <td>   309.000000</td>\n",
        "      <td>  221.500000</td>\n",
        "    </tr>\n",
        "    <tr>\n",
        "      <th>max</th>\n",
        "      <td>  1460.000000</td>\n",
        "      <td>  843.000000</td>\n",
        "    </tr>\n",
        "  </tbody>\n",
        "</table>\n",
        "<p>8 rows \u00d7 2 columns</p>\n",
        "</div>"
       ],
       "metadata": {},
       "output_type": "pyout",
       "prompt_number": 22,
       "text": [
        "       RegionalFlow     SiteFlow\n",
        "count  26520.000000  1826.000000\n",
        "mean     223.072428   150.703286\n",
        "std      236.204823   149.415103\n",
        "min       19.500000    20.000000\n",
        "25%       53.000000    40.025000\n",
        "50%      118.000000    83.900000\n",
        "75%      309.000000   221.500000\n",
        "max     1460.000000   843.000000\n",
        "\n",
        "[8 rows x 2 columns]"
       ]
      }
     ],
     "prompt_number": 22
    },
    {
     "cell_type": "code",
     "collapsed": false,
     "input": [
      "plt.figure(); analysisdf.plot()"
     ],
     "language": "python",
     "metadata": {},
     "outputs": [
      {
       "metadata": {},
       "output_type": "pyout",
       "prompt_number": 23,
       "text": [
        "<matplotlib.axes.AxesSubplot at 0xc77ff28>"
       ]
      },
      {
       "metadata": {},
       "output_type": "display_data",
       "text": [
        "<matplotlib.figure.Figure at 0xc584748>"
       ]
      },
      {
       "metadata": {},
       "output_type": "display_data",
       "png": "[encoded data removed]",
       "text": [
        "<matplotlib.figure.Figure at 0xc580a58>"
       ]
      }
     ],
     "prompt_number": 23
    },
    {
     "cell_type": "code",
     "collapsed": false,
     "input": [
      "season1start = date(2011,10,1)\n",
      "season1end = date(2012,2,1)\n",
      "season2start = season1end\n",
      "season2end = date(2012,5,10)\n",
      "season3start = season2endz"
     ],
     "language": "python",
     "metadata": {},
     "outputs": [],
     "prompt_number": 79
    },
    {
     "cell_type": "code",
     "collapsed": false,
     "input": [
      "hydraulicYearDayList = []\n",
      "for dates in analysisdf.index:\n",
      "    if dates.month >= 10:\n",
      "        hydraulicDay = dates.toordinal() - date(dates.year, 10 , 1).toordinal() + 1\n",
      "    else:\n",
      "        hydraulicDay = dates.toordinal() - date(dates.year-1, 10 , 1).toordinal() + 1\n",
      "    hydraulicYearDayList.append(hydraulicDay)"
     ],
     "language": "python",
     "metadata": {},
     "outputs": [],
     "prompt_number": 24
    },
    {
     "cell_type": "code",
     "collapsed": false,
     "input": [
      "hydraulicYearDaySeries = pd.Series(hydraulicYearDayList, index = analysisdf.index)\n",
      "hydraulicYearDaySeries"
     ],
     "language": "python",
     "metadata": {},
     "outputs": [
      {
       "metadata": {},
       "output_type": "pyout",
       "prompt_number": 25,
       "text": [
        "Date\n",
        "1914-01-01     93\n",
        "1914-01-02     94\n",
        "1914-01-03     95\n",
        "1914-01-04     96\n",
        "1914-01-05     97\n",
        "1914-01-06     98\n",
        "1914-01-07     99\n",
        "1914-01-08    100\n",
        "1914-01-09    101\n",
        "1914-01-10    102\n",
        "1914-01-11    103\n",
        "1914-01-12    104\n",
        "1914-01-13    105\n",
        "1914-01-14    106\n",
        "1914-01-15    107\n",
        "...\n",
        "2010-12-17    78\n",
        "2010-12-18    79\n",
        "2010-12-19    80\n",
        "2010-12-20    81\n",
        "2010-12-21    82\n",
        "2010-12-22    83\n",
        "2010-12-23    84\n",
        "2010-12-24    85\n",
        "2010-12-25    86\n",
        "2010-12-26    87\n",
        "2010-12-27    88\n",
        "2010-12-28    89\n",
        "2010-12-29    90\n",
        "2010-12-30    91\n",
        "2010-12-31    92\n",
        "Length: 26520"
       ]
      }
     ],
     "prompt_number": 25
    },
    {
     "cell_type": "code",
     "collapsed": false,
     "input": [
      "hydraulicYearDaySeries.describe()"
     ],
     "language": "python",
     "metadata": {},
     "outputs": [
      {
       "metadata": {},
       "output_type": "pyout",
       "prompt_number": 26,
       "text": [
        "count    26520.000000\n",
        "mean       182.681297\n",
        "std        105.311905\n",
        "min          1.000000\n",
        "25%         91.000000\n",
        "50%        183.000000\n",
        "75%        274.000000\n",
        "max        366.000000\n",
        "dtype: float64"
       ]
      }
     ],
     "prompt_number": 26
    },
    {
     "cell_type": "code",
     "collapsed": false,
     "input": [
      "analysisdf['HydraulicDay'] = hydraulicYearDaySeries"
     ],
     "language": "python",
     "metadata": {},
     "outputs": [],
     "prompt_number": 27
    },
    {
     "cell_type": "code",
     "collapsed": false,
     "input": [
      "analysisdf.head()"
     ],
     "language": "python",
     "metadata": {},
     "outputs": [
      {
       "html": [
        "<div style=\"max-height:1000px;max-width:1500px;overflow:auto;\">\n",
        "<table border=\"1\" class=\"dataframe\">\n",
        "  <thead>\n",
        "    <tr style=\"text-align: right;\">\n",
        "      <th></th>\n",
        "      <th>RegionalFlow</th>\n",
        "      <th>SiteFlow</th>\n",
        "      <th>HydraulicDay</th>\n",
        "    </tr>\n",
        "    <tr>\n",
        "      <th>Date</th>\n",
        "      <th></th>\n",
        "      <th></th>\n",
        "      <th></th>\n",
        "    </tr>\n",
        "  </thead>\n",
        "  <tbody>\n",
        "    <tr>\n",
        "      <th>1914-01-01</th>\n",
        "      <td> 144</td>\n",
        "      <td>NaN</td>\n",
        "      <td> 93</td>\n",
        "    </tr>\n",
        "    <tr>\n",
        "      <th>1914-01-02</th>\n",
        "      <td> 144</td>\n",
        "      <td>NaN</td>\n",
        "      <td> 94</td>\n",
        "    </tr>\n",
        "    <tr>\n",
        "      <th>1914-01-03</th>\n",
        "      <td> 144</td>\n",
        "      <td>NaN</td>\n",
        "      <td> 95</td>\n",
        "    </tr>\n",
        "    <tr>\n",
        "      <th>1914-01-04</th>\n",
        "      <td> 140</td>\n",
        "      <td>NaN</td>\n",
        "      <td> 96</td>\n",
        "    </tr>\n",
        "    <tr>\n",
        "      <th>1914-01-05</th>\n",
        "      <td> 140</td>\n",
        "      <td>NaN</td>\n",
        "      <td> 97</td>\n",
        "    </tr>\n",
        "  </tbody>\n",
        "</table>\n",
        "<p>5 rows \u00d7 3 columns</p>\n",
        "</div>"
       ],
       "metadata": {},
       "output_type": "pyout",
       "prompt_number": 28,
       "text": [
        "            RegionalFlow  SiteFlow  HydraulicDay\n",
        "Date                                            \n",
        "1914-01-01           144       NaN            93\n",
        "1914-01-02           144       NaN            94\n",
        "1914-01-03           144       NaN            95\n",
        "1914-01-04           140       NaN            96\n",
        "1914-01-05           140       NaN            97\n",
        "\n",
        "[5 rows x 3 columns]"
       ]
      }
     ],
     "prompt_number": 28
    },
    {
     "cell_type": "code",
     "collapsed": false,
     "input": [
      "analysisdf.loc['19240101',['HydraulicDay']]"
     ],
     "language": "python",
     "metadata": {},
     "outputs": [
      {
       "metadata": {},
       "output_type": "pyout",
       "prompt_number": 29,
       "text": [
        "HydraulicDay    93\n",
        "Name: 1924-01-01 00:00:00, dtype: float64"
       ]
      }
     ],
     "prompt_number": 29
    },
    {
     "cell_type": "code",
     "collapsed": false,
     "input": [
      "analysisdf.loc['20090228',['HydraulicDay']]"
     ],
     "language": "python",
     "metadata": {},
     "outputs": [
      {
       "metadata": {},
       "output_type": "pyout",
       "prompt_number": 30,
       "text": [
        "HydraulicDay    151\n",
        "Name: 2009-02-28 00:00:00, dtype: float64"
       ]
      }
     ],
     "prompt_number": 30
    },
    {
     "cell_type": "code",
     "collapsed": false,
     "input": [
      "#hydraulicYearList = []\n",
      "#for dates in analysisdf.index:\n",
      "    #if dates.month >= 10:\n",
      "        #hydraulicYear = dates.year+1#[str(dates.year)+' - '+str(dates.year+1)]\n",
      "    #else:\n",
      "        #hydraulicYear = dates.year#[str(dates.year-1)+' - '+str(dates.year)]\n",
      "    #hydraulicYearList.append(hydraulicYear)"
     ],
     "language": "python",
     "metadata": {},
     "outputs": [],
     "prompt_number": 31
    },
    {
     "cell_type": "code",
     "collapsed": false,
     "input": [
      "#hydraulicYearSeries = pd.Series(hydraulicYearList, index = analysisdf.index)\n",
      "#hydraulicYearSeries.head()"
     ],
     "language": "python",
     "metadata": {},
     "outputs": [],
     "prompt_number": 32
    },
    {
     "cell_type": "code",
     "collapsed": false,
     "input": [
      "#analysisdf['HydraulicYear'] = hydraulicYearSeries"
     ],
     "language": "python",
     "metadata": {},
     "outputs": [],
     "prompt_number": 33
    },
    {
     "cell_type": "code",
     "collapsed": false,
     "input": [
      "analysisdf.columns"
     ],
     "language": "python",
     "metadata": {},
     "outputs": [
      {
       "metadata": {},
       "output_type": "pyout",
       "prompt_number": 61,
       "text": [
        "Index([u'RegionalFlow', u'SiteFlow', u'HydraulicDay'], dtype='object')"
       ]
      }
     ],
     "prompt_number": 61
    },
    {
     "cell_type": "code",
     "collapsed": false,
     "input": [
      "#plt.figure(); analysisdf.pivot(index='HydraulicDay', columns='HydraulicYear', values = 'RegionalFlow').plot()"
     ],
     "language": "python",
     "metadata": {},
     "outputs": [],
     "prompt_number": 35
    },
    {
     "cell_type": "code",
     "collapsed": false,
     "input": [
      "hydraulicDayGrouped = analysisdf.groupby('HydraulicDay')"
     ],
     "language": "python",
     "metadata": {},
     "outputs": [],
     "prompt_number": 36
    },
    {
     "cell_type": "code",
     "collapsed": false,
     "input": [
      "hydMedians = hydraulicDayGrouped.aggregate(np.median)\n",
      "plt.figure(); hydMedians.plot()"
     ],
     "language": "python",
     "metadata": {},
     "outputs": [
      {
       "metadata": {},
       "output_type": "pyout",
       "prompt_number": 37,
       "text": [
        "<matplotlib.axes.AxesSubplot at 0xc2b4ba8>"
       ]
      },
      {
       "metadata": {},
       "output_type": "display_data",
       "text": [
        "<matplotlib.figure.Figure at 0xc2ba908>"
       ]
      },
      {
       "metadata": {},
       "output_type": "display_data",
       "png": "[encoded data removed]",
       "text": [
        "<matplotlib.figure.Figure at 0xc5827b8>"
       ]
      }
     ],
     "prompt_number": 37
    },
    {
     "cell_type": "code",
     "collapsed": false,
     "input": [
      "summarydf = pd.DataFrame(hydraulicDayGrouped.describe())"
     ],
     "language": "python",
     "metadata": {},
     "outputs": [],
     "prompt_number": 38
    },
    {
     "cell_type": "code",
     "collapsed": false,
     "input": [
      "hydReg25 = hydraulicDayGrouped['RegionalFlow'].quantile(.25)\n",
      "hydReg50 = hydraulicDayGrouped['RegionalFlow'].quantile(.5)\n",
      "hydReg75 = hydraulicDayGrouped['RegionalFlow'].quantile(.75)\n",
      "hydSite25 = hydraulicDayGrouped['SiteFlow'].quantile(.25)\n",
      "hydSite50 = hydraulicDayGrouped['SiteFlow'].quantile(.5)\n",
      "hydSite75 = hydraulicDayGrouped['SiteFlow'].quantile(.75)"
     ],
     "language": "python",
     "metadata": {},
     "outputs": [],
     "prompt_number": 47
    },
    {
     "cell_type": "code",
     "collapsed": false,
     "input": [
      "hydReg25.index"
     ],
     "language": "python",
     "metadata": {},
     "outputs": [
      {
       "metadata": {},
       "output_type": "pyout",
       "prompt_number": 52,
       "text": [
        "Int64Index([1, 2, 3, 4, 5, 6, 7, 8, 9, 10, 11, 12, 13, 14, 15, 16, 17, 18, 19, 20, 21, 22, 23, 24, 25, 26, 27, 28, 29, 30, 31, 32, 33, 34, 35, 36, 37, 38, 39, 40, 41, 42, 43, 44, 45, 46, 47, 48, 49, 50, 51, 52, 53, 54, 55, 56, 57, 58, 59, 60, 61, 62, 63, 64, 65, 66, 67, 68, 69, 70, 71, 72, 73, 74, 75, 76, 77, 78, 79, 80, 81, 82, 83, 84, 85, 86, 87, 88, 89, 90, 91, 92, 93, 94, 95, 96, 97, 98, 99, 100, ...], dtype='int64')"
       ]
      }
     ],
     "prompt_number": 52
    },
    {
     "cell_type": "code",
     "collapsed": false,
     "input": [
      "summarydf1 = summarydf.unstack().T[0:16]\n",
      "summarydf1.head()"
     ],
     "language": "python",
     "metadata": {},
     "outputs": [
      {
       "html": [
        "<div style=\"max-height:1000px;max-width:1500px;overflow:auto;\">\n",
        "<table border=\"1\" class=\"dataframe\">\n",
        "  <thead>\n",
        "    <tr style=\"text-align: right;\">\n",
        "      <th></th>\n",
        "      <th>HydraulicDay</th>\n",
        "      <th>1</th>\n",
        "      <th>2</th>\n",
        "      <th>3</th>\n",
        "      <th>4</th>\n",
        "      <th>5</th>\n",
        "      <th>6</th>\n",
        "      <th>7</th>\n",
        "      <th>8</th>\n",
        "      <th>9</th>\n",
        "      <th>10</th>\n",
        "      <th>11</th>\n",
        "      <th>12</th>\n",
        "      <th>13</th>\n",
        "      <th>14</th>\n",
        "      <th>15</th>\n",
        "      <th>16</th>\n",
        "      <th>17</th>\n",
        "      <th>18</th>\n",
        "      <th>19</th>\n",
        "      <th>20</th>\n",
        "      <th></th>\n",
        "    </tr>\n",
        "  </thead>\n",
        "  <tbody>\n",
        "    <tr>\n",
        "      <th rowspan=\"5\" valign=\"top\">RegionalFlow</th>\n",
        "      <th>count</th>\n",
        "      <td>  72.000000</td>\n",
        "      <td>  73.000000</td>\n",
        "      <td>  72.000000</td>\n",
        "      <td>  73.000000</td>\n",
        "      <td>  72.000000</td>\n",
        "      <td>  72.000000</td>\n",
        "      <td>  72.000000</td>\n",
        "      <td>  72.000000</td>\n",
        "      <td>  73.000000</td>\n",
        "      <td>  73.000000</td>\n",
        "      <td>  75.000000</td>\n",
        "      <td>  73.000000</td>\n",
        "      <td>  73.000000</td>\n",
        "      <td>  73.000000</td>\n",
        "      <td>  73.000000</td>\n",
        "      <td>  74.000000</td>\n",
        "      <td>  73.000000</td>\n",
        "      <td>  74.000000</td>\n",
        "      <td>  73.000000</td>\n",
        "      <td>  73.000000</td>\n",
        "    </tr>\n",
        "    <tr>\n",
        "      <th>mean</th>\n",
        "      <td> 149.009722</td>\n",
        "      <td> 150.343836</td>\n",
        "      <td> 147.433333</td>\n",
        "      <td> 145.156164</td>\n",
        "      <td> 144.515278</td>\n",
        "      <td> 141.580556</td>\n",
        "      <td> 138.852778</td>\n",
        "      <td> 136.988889</td>\n",
        "      <td> 138.786301</td>\n",
        "      <td> 134.647945</td>\n",
        "      <td> 137.274667</td>\n",
        "      <td> 135.109589</td>\n",
        "      <td> 135.067123</td>\n",
        "      <td> 134.652055</td>\n",
        "      <td> 134.834247</td>\n",
        "      <td> 137.883784</td>\n",
        "      <td> 138.264384</td>\n",
        "      <td> 138.845946</td>\n",
        "      <td> 138.617808</td>\n",
        "      <td> 137.050685</td>\n",
        "    </tr>\n",
        "    <tr>\n",
        "      <th>std</th>\n",
        "      <td>  67.206193</td>\n",
        "      <td>  69.132415</td>\n",
        "      <td>  67.216667</td>\n",
        "      <td>  65.541391</td>\n",
        "      <td>  66.127563</td>\n",
        "      <td>  63.026041</td>\n",
        "      <td>  59.324788</td>\n",
        "      <td>  57.415649</td>\n",
        "      <td>  62.169616</td>\n",
        "      <td>  53.416924</td>\n",
        "      <td>  60.077153</td>\n",
        "      <td>  54.169670</td>\n",
        "      <td>  55.283009</td>\n",
        "      <td>  55.058588</td>\n",
        "      <td>  56.508977</td>\n",
        "      <td>  59.987305</td>\n",
        "      <td>  63.549111</td>\n",
        "      <td>  68.427400</td>\n",
        "      <td>  67.480905</td>\n",
        "      <td>  65.926748</td>\n",
        "    </tr>\n",
        "    <tr>\n",
        "      <th>min</th>\n",
        "      <td>  66.500000</td>\n",
        "      <td>  66.800000</td>\n",
        "      <td>  67.700000</td>\n",
        "      <td>  68.500000</td>\n",
        "      <td>  69.300000</td>\n",
        "      <td>  66.900000</td>\n",
        "      <td>  64.000000</td>\n",
        "      <td>  61.500000</td>\n",
        "      <td>  58.700000</td>\n",
        "      <td>  56.200000</td>\n",
        "      <td>  54.000000</td>\n",
        "      <td>  52.000000</td>\n",
        "      <td>  50.000000</td>\n",
        "      <td>  48.000000</td>\n",
        "      <td>  47.500000</td>\n",
        "      <td>  48.500000</td>\n",
        "      <td>  45.500000</td>\n",
        "      <td>  44.500000</td>\n",
        "      <td>  45.800000</td>\n",
        "      <td>  46.200000</td>\n",
        "    </tr>\n",
        "    <tr>\n",
        "      <th>25%</th>\n",
        "      <td> 103.750000</td>\n",
        "      <td> 104.000000</td>\n",
        "      <td> 102.500000</td>\n",
        "      <td>  99.600000</td>\n",
        "      <td> 100.350000</td>\n",
        "      <td> 100.650000</td>\n",
        "      <td> 100.450000</td>\n",
        "      <td> 100.025000</td>\n",
        "      <td>  98.600000</td>\n",
        "      <td>  94.300000</td>\n",
        "      <td>  93.150000</td>\n",
        "      <td>  92.000000</td>\n",
        "      <td>  92.300000</td>\n",
        "      <td>  91.200000</td>\n",
        "      <td>  89.000000</td>\n",
        "      <td>  90.525000</td>\n",
        "      <td>  93.000000</td>\n",
        "      <td>  90.175000</td>\n",
        "      <td>  92.600000</td>\n",
        "      <td>  92.200000</td>\n",
        "    </tr>\n",
        "  </tbody>\n",
        "</table>\n",
        "<p>5 rows \u00d7 366 columns</p>\n",
        "</div>"
       ],
       "metadata": {},
       "output_type": "pyout",
       "prompt_number": 41,
       "text": [
        "HydraulicDay                1           2           3           4   \\\n",
        "RegionalFlow count   72.000000   73.000000   72.000000   73.000000   \n",
        "             mean   149.009722  150.343836  147.433333  145.156164   \n",
        "             std     67.206193   69.132415   67.216667   65.541391   \n",
        "             min     66.500000   66.800000   67.700000   68.500000   \n",
        "             25%    103.750000  104.000000  102.500000   99.600000   \n",
        "\n",
        "HydraulicDay                5           6           7           8   \\\n",
        "RegionalFlow count   72.000000   72.000000   72.000000   72.000000   \n",
        "             mean   144.515278  141.580556  138.852778  136.988889   \n",
        "             std     66.127563   63.026041   59.324788   57.415649   \n",
        "             min     69.300000   66.900000   64.000000   61.500000   \n",
        "             25%    100.350000  100.650000  100.450000  100.025000   \n",
        "\n",
        "HydraulicDay                9           10          11          12  \\\n",
        "RegionalFlow count   73.000000   73.000000   75.000000   73.000000   \n",
        "             mean   138.786301  134.647945  137.274667  135.109589   \n",
        "             std     62.169616   53.416924   60.077153   54.169670   \n",
        "             min     58.700000   56.200000   54.000000   52.000000   \n",
        "             25%     98.600000   94.300000   93.150000   92.000000   \n",
        "\n",
        "HydraulicDay                13          14          15          16  \\\n",
        "RegionalFlow count   73.000000   73.000000   73.000000   74.000000   \n",
        "             mean   135.067123  134.652055  134.834247  137.883784   \n",
        "             std     55.283009   55.058588   56.508977   59.987305   \n",
        "             min     50.000000   48.000000   47.500000   48.500000   \n",
        "             25%     92.300000   91.200000   89.000000   90.525000   \n",
        "\n",
        "HydraulicDay                17          18          19          20      \n",
        "RegionalFlow count   73.000000   74.000000   73.000000   73.000000 ...  \n",
        "             mean   138.264384  138.845946  138.617808  137.050685 ...  \n",
        "             std     63.549111   68.427400   67.480905   65.926748 ...  \n",
        "             min     45.500000   44.500000   45.800000   46.200000 ...  \n",
        "             25%     93.000000   90.175000   92.600000   92.200000 ...  \n",
        "\n",
        "[5 rows x 366 columns]"
       ]
      }
     ],
     "prompt_number": 41
    },
    {
     "cell_type": "code",
     "collapsed": false,
     "input": [
      "summarydf1.index"
     ],
     "language": "python",
     "metadata": {},
     "outputs": [
      {
       "metadata": {},
       "output_type": "pyout",
       "prompt_number": 42,
       "text": [
        "MultiIndex(levels=[[u'RegionalFlow', u'SiteFlow', u'HydraulicDay'], [u'count', u'mean', u'std', u'min', u'25%', u'50%', u'75%', u'max']],\n",
        "           labels=[[0, 0, 0, 0, 0, 0, 0, 0, 1, 1, 1, 1, 1, 1, 1, 1], [0, 1, 2, 3, 4, 5, 6, 7, 0, 1, 2, 3, 4, 5, 6, 7]])"
       ]
      }
     ],
     "prompt_number": 42
    },
    {
     "cell_type": "code",
     "collapsed": false,
     "input": [
      "hydReg25.head()"
     ],
     "language": "python",
     "metadata": {},
     "outputs": [
      {
       "metadata": {},
       "output_type": "pyout",
       "prompt_number": 59,
       "text": [
        "HydraulicDay\n",
        "1               103.75\n",
        "2               104.00\n",
        "3               102.50\n",
        "4                99.60\n",
        "5               100.35\n",
        "dtype: float64"
       ]
      }
     ],
     "prompt_number": 59
    },
    {
     "cell_type": "code",
     "collapsed": false,
     "input": [
      "?pd.DataFrame"
     ],
     "language": "python",
     "metadata": {},
     "outputs": [],
     "prompt_number": 51
    },
    {
     "cell_type": "code",
     "collapsed": false,
     "input": [
      "summarydf3 = pd.DataFrame(hydReg25, index=hydReg25.index,columns=['Regional 25%'] )\n",
      "summarydf3['Regional 50%']= hydReg50\n",
      "summarydf3['Regional 75%']= hydReg75\n",
      "summarydf3['Site 25%']= hydSite25\n",
      "summarydf3['Site 50%']= hydSite50\n",
      "summarydf3['Site 75%']= hydSite75"
     ],
     "language": "python",
     "metadata": {},
     "outputs": [],
     "prompt_number": 72
    },
    {
     "cell_type": "code",
     "collapsed": false,
     "input": [
      "summarydf3.describe()"
     ],
     "language": "python",
     "metadata": {},
     "outputs": [
      {
       "html": [
        "<div style=\"max-height:1000px;max-width:1500px;overflow:auto;\">\n",
        "<table border=\"1\" class=\"dataframe\">\n",
        "  <thead>\n",
        "    <tr style=\"text-align: right;\">\n",
        "      <th></th>\n",
        "      <th>Regional 25%</th>\n",
        "      <th>Regional 50%</th>\n",
        "      <th>Regional 75%</th>\n",
        "      <th>Site 25%</th>\n",
        "      <th>Site 50%</th>\n",
        "      <th>Site 75%</th>\n",
        "    </tr>\n",
        "  </thead>\n",
        "  <tbody>\n",
        "    <tr>\n",
        "      <th>count</th>\n",
        "      <td> 366.000000</td>\n",
        "      <td> 366.000000</td>\n",
        "      <td> 366.000000</td>\n",
        "      <td> 366.000000</td>\n",
        "      <td> 366.000000</td>\n",
        "      <td> 366.000000</td>\n",
        "    </tr>\n",
        "    <tr>\n",
        "      <th>mean</th>\n",
        "      <td> 169.374658</td>\n",
        "      <td> 210.123361</td>\n",
        "      <td> 261.326503</td>\n",
        "      <td> 125.050820</td>\n",
        "      <td> 144.092077</td>\n",
        "      <td> 167.889617</td>\n",
        "    </tr>\n",
        "    <tr>\n",
        "      <th>std</th>\n",
        "      <td> 174.305566</td>\n",
        "      <td> 209.445092</td>\n",
        "      <td> 251.551694</td>\n",
        "      <td> 121.432803</td>\n",
        "      <td> 134.714698</td>\n",
        "      <td> 157.072922</td>\n",
        "    </tr>\n",
        "    <tr>\n",
        "      <th>min</th>\n",
        "      <td>  32.800000</td>\n",
        "      <td>  38.500000</td>\n",
        "      <td>  45.250000</td>\n",
        "      <td>  27.500000</td>\n",
        "      <td>  31.500000</td>\n",
        "      <td>  33.800000</td>\n",
        "    </tr>\n",
        "    <tr>\n",
        "      <th>25%</th>\n",
        "      <td>  41.318750</td>\n",
        "      <td>  50.137500</td>\n",
        "      <td>  62.375000</td>\n",
        "      <td>  35.425000</td>\n",
        "      <td>  38.225000</td>\n",
        "      <td>  45.000000</td>\n",
        "    </tr>\n",
        "    <tr>\n",
        "      <th>50%</th>\n",
        "      <td>  89.200000</td>\n",
        "      <td> 119.250000</td>\n",
        "      <td> 163.000000</td>\n",
        "      <td>  65.450000</td>\n",
        "      <td>  83.800000</td>\n",
        "      <td> 109.000000</td>\n",
        "    </tr>\n",
        "    <tr>\n",
        "      <th>75%</th>\n",
        "      <td> 231.437500</td>\n",
        "      <td> 288.625000</td>\n",
        "      <td> 357.750000</td>\n",
        "      <td> 172.500000</td>\n",
        "      <td> 200.000000</td>\n",
        "      <td> 225.750000</td>\n",
        "    </tr>\n",
        "    <tr>\n",
        "      <th>max</th>\n",
        "      <td> 659.000000</td>\n",
        "      <td> 756.000000</td>\n",
        "      <td> 877.500000</td>\n",
        "      <td> 510.000000</td>\n",
        "      <td> 594.000000</td>\n",
        "      <td> 662.000000</td>\n",
        "    </tr>\n",
        "  </tbody>\n",
        "</table>\n",
        "<p>8 rows \u00d7 6 columns</p>\n",
        "</div>"
       ],
       "metadata": {},
       "output_type": "pyout",
       "prompt_number": 74,
       "text": [
        "       Regional 25%  Regional 50%  Regional 75%    Site 25%    Site 50%  \\\n",
        "count    366.000000    366.000000    366.000000  366.000000  366.000000   \n",
        "mean     169.374658    210.123361    261.326503  125.050820  144.092077   \n",
        "std      174.305566    209.445092    251.551694  121.432803  134.714698   \n",
        "min       32.800000     38.500000     45.250000   27.500000   31.500000   \n",
        "25%       41.318750     50.137500     62.375000   35.425000   38.225000   \n",
        "50%       89.200000    119.250000    163.000000   65.450000   83.800000   \n",
        "75%      231.437500    288.625000    357.750000  172.500000  200.000000   \n",
        "max      659.000000    756.000000    877.500000  510.000000  594.000000   \n",
        "\n",
        "         Site 75%  \n",
        "count  366.000000  \n",
        "mean   167.889617  \n",
        "std    157.072922  \n",
        "min     33.800000  \n",
        "25%     45.000000  \n",
        "50%    109.000000  \n",
        "75%    225.750000  \n",
        "max    662.000000  \n",
        "\n",
        "[8 rows x 6 columns]"
       ]
      }
     ],
     "prompt_number": 74
    },
    {
     "cell_type": "code",
     "collapsed": false,
     "input": [
      "plt.figure(); summarydf3.plot()"
     ],
     "language": "python",
     "metadata": {},
     "outputs": [
      {
       "metadata": {},
       "output_type": "pyout",
       "prompt_number": 75,
       "text": [
        "<matplotlib.axes.AxesSubplot at 0xe9e61d0>"
       ]
      },
      {
       "metadata": {},
       "output_type": "display_data",
       "text": [
        "<matplotlib.figure.Figure at 0xe9e6da0>"
       ]
      },
      {
       "metadata": {},
       "output_type": "display_data",
       "png": "[encoded data removed]",
       "text": [
        "<matplotlib.figure.Figure at 0xe9e6c50>"
       ]
      }
     ],
     "prompt_number": 75
    },
    {
     "cell_type": "code",
     "collapsed": false,
     "input": [],
     "language": "python",
     "metadata": {},
     "outputs": []
    }
   ],
   "metadata": {}
  }
 ]
}